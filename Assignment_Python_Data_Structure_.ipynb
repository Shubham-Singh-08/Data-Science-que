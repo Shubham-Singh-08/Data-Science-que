{
  "nbformat": 4,
  "nbformat_minor": 0,
  "metadata": {
    "colab": {
      "provenance": []
    },
    "kernelspec": {
      "name": "python3",
      "display_name": "Python 3"
    },
    "language_info": {
      "name": "python"
    }
  },
  "cells": [
    {
      "cell_type": "markdown",
      "source": [
        "***Q.1 Discuss string slicing and provide examples ?***"
      ],
      "metadata": {
        "id": "OiePs6v7Temf"
      }
    },
    {
      "cell_type": "markdown",
      "source": [
        "**String Slicing in Python**\n",
        "\n",
        "String slicing in Python is a way to extract a portion (substring) of a string using the slicing operator [:]. The slicing operation allows you to specify the start, stop, and step parameters to control how the string is divided."
      ],
      "metadata": {
        "id": "TSCwt6Z_Ot3O"
      }
    },
    {
      "cell_type": "markdown",
      "source": [
        "**The general syntax is:**\n",
        "\n",
        "**python**\n",
        "\n",
        "substring = string[start:stop:step]"
      ],
      "metadata": {
        "id": "uO0dXkpIO22m"
      }
    },
    {
      "cell_type": "markdown",
      "source": [
        "**Parameters:**\n",
        "\n",
        "start: The starting index (inclusive). Default is 0.\n",
        "\n",
        "stop: The ending index (exclusive). If omitted, slicing continues to the end of the string.\n",
        "\n",
        "step: The step value, which determines the stride (default is 1)."
      ],
      "metadata": {
        "id": "YvxzxHVBQJGF"
      }
    },
    {
      "cell_type": "markdown",
      "source": [
        "**Examples**"
      ],
      "metadata": {
        "id": "0jfsjKwDSNmn"
      }
    },
    {
      "cell_type": "markdown",
      "source": [
        "**1. Basic Slicing**"
      ],
      "metadata": {
        "id": "hz-eGgdqSS3d"
      }
    },
    {
      "cell_type": "code",
      "source": [
        "string = \"PythonProgramming\"\n",
        "print(string[0:6])\n"
      ],
      "metadata": {
        "colab": {
          "base_uri": "https://localhost:8080/"
        },
        "id": "p9Qdlk-zSPn1",
        "outputId": "9d83e660-f08e-470b-d04f-b488f4399a53"
      },
      "execution_count": 4,
      "outputs": [
        {
          "output_type": "stream",
          "name": "stdout",
          "text": [
            "Python\n"
          ]
        }
      ]
    },
    {
      "cell_type": "markdown",
      "source": [
        "**2. Omitting Start or Stop**"
      ],
      "metadata": {
        "id": "vTChByrmSgwu"
      }
    },
    {
      "cell_type": "code",
      "source": [
        "string = \"HelloWorld\"\n",
        "print(string[:5])\n",
        "print(string[5:])"
      ],
      "metadata": {
        "colab": {
          "base_uri": "https://localhost:8080/"
        },
        "id": "c_MtBwxDSh7u",
        "outputId": "372f978f-f9b3-44e5-b8e7-686ededefee6"
      },
      "execution_count": 6,
      "outputs": [
        {
          "output_type": "stream",
          "name": "stdout",
          "text": [
            "Hello\n",
            "World\n"
          ]
        }
      ]
    },
    {
      "cell_type": "markdown",
      "source": [
        "**3. Using Step**"
      ],
      "metadata": {
        "id": "r5IoUTmrSpkU"
      }
    },
    {
      "cell_type": "code",
      "source": [
        "string = \"abcdefg\"\n",
        "print(string[::2])\n",
        "print(string[1::2])\n"
      ],
      "metadata": {
        "colab": {
          "base_uri": "https://localhost:8080/"
        },
        "id": "EF8Uk0aYSoZV",
        "outputId": "74bab610-bc69-4c5e-ceb7-25ef897ecc06"
      },
      "execution_count": 7,
      "outputs": [
        {
          "output_type": "stream",
          "name": "stdout",
          "text": [
            "aceg\n",
            "bdf\n"
          ]
        }
      ]
    },
    {
      "cell_type": "markdown",
      "source": [
        "**4. Negative Indices**"
      ],
      "metadata": {
        "id": "snT75AE1SyvN"
      }
    },
    {
      "cell_type": "code",
      "source": [
        "string = \"Python\"\n",
        "print(string[-1])\n",
        "print(string[-4:-1])\n",
        "print(string[::-1])\n"
      ],
      "metadata": {
        "colab": {
          "base_uri": "https://localhost:8080/"
        },
        "id": "Peq6fIxhSxa9",
        "outputId": "5d55d157-28f7-4117-f74e-61d3451b0fe8"
      },
      "execution_count": 8,
      "outputs": [
        {
          "output_type": "stream",
          "name": "stdout",
          "text": [
            "n\n",
            "tho\n",
            "nohtyP\n"
          ]
        }
      ]
    },
    {
      "cell_type": "markdown",
      "source": [
        "**5. Advanced Examples**\n",
        "\n",
        "Extracting a substring from the middle:"
      ],
      "metadata": {
        "id": "rLOwqmO_S4hc"
      }
    },
    {
      "cell_type": "code",
      "source": [
        "string = \"DataAnalysis\"\n",
        "print(string[4:10])\n"
      ],
      "metadata": {
        "colab": {
          "base_uri": "https://localhost:8080/"
        },
        "id": "-RCJiA60S8bs",
        "outputId": "8a29bf8b-244d-4d02-8bfa-3c9810c08eb6"
      },
      "execution_count": 9,
      "outputs": [
        {
          "output_type": "stream",
          "name": "stdout",
          "text": [
            "Analys\n"
          ]
        }
      ]
    },
    {
      "cell_type": "markdown",
      "source": [
        "Skipping characters:"
      ],
      "metadata": {
        "id": "LexsetJKTA4d"
      }
    },
    {
      "cell_type": "code",
      "source": [
        "string = \"abcdefghijkl\"\n",
        "print(string[2:10:3])\n"
      ],
      "metadata": {
        "colab": {
          "base_uri": "https://localhost:8080/"
        },
        "id": "triDAgVgTFuF",
        "outputId": "8350a069-0de9-4937-e45e-acf0dbb92b56"
      },
      "execution_count": 10,
      "outputs": [
        {
          "output_type": "stream",
          "name": "stdout",
          "text": [
            "cfi\n"
          ]
        }
      ]
    },
    {
      "cell_type": "markdown",
      "source": [
        "Negative values for start, stop, and step allow slicing from the end of the string.\n",
        "\n",
        "If start is greater than stop with a positive step, the result is an empty string."
      ],
      "metadata": {
        "id": "THUTRlBDTOme"
      }
    },
    {
      "cell_type": "markdown",
      "source": [
        "***Q.2 Explain the key features of lists in Python ?***"
      ],
      "metadata": {
        "id": "CCFk7lmATovM"
      }
    },
    {
      "cell_type": "markdown",
      "source": [
        "**Key Features of Python Lists**\n",
        "\n",
        "1. Dynamic Nature\n",
        "\n",
        "Lists are dynamic in size, meaning you can add, remove, or modify elements at any time.\n",
        "\n",
        "Example:"
      ],
      "metadata": {
        "id": "ZgkmaymtTrA8"
      }
    },
    {
      "cell_type": "code",
      "source": [
        "lst = [1, 2, 3]\n",
        "lst.append(4)\n",
        "print(lst)\n"
      ],
      "metadata": {
        "colab": {
          "base_uri": "https://localhost:8080/"
        },
        "id": "vlrmp-cETzIs",
        "outputId": "ebb6f48f-53cc-4221-82c8-1fc0da1bfdcd"
      },
      "execution_count": 11,
      "outputs": [
        {
          "output_type": "stream",
          "name": "stdout",
          "text": [
            "[1, 2, 3, 4]\n"
          ]
        }
      ]
    },
    {
      "cell_type": "markdown",
      "source": [
        "2. Ordered and Indexed\n",
        "\n",
        "Lists maintain the order of elements as inserted.\n",
        "\n",
        "They are indexed, starting at 0 for the first element, and can also be accessed using negative indices.\n",
        "\n",
        "Example:"
      ],
      "metadata": {
        "id": "PG1_BsOkT8WO"
      }
    },
    {
      "cell_type": "code",
      "source": [
        "lst = ['a', 'b', 'c']\n",
        "print(lst[0])\n",
        "print(lst[-1])\n"
      ],
      "metadata": {
        "colab": {
          "base_uri": "https://localhost:8080/"
        },
        "id": "4xeS33-NUEnk",
        "outputId": "4e83a8a1-58b4-441f-d4b6-932f1883e2a1"
      },
      "execution_count": 13,
      "outputs": [
        {
          "output_type": "stream",
          "name": "stdout",
          "text": [
            "a\n",
            "c\n"
          ]
        }
      ]
    },
    {
      "cell_type": "markdown",
      "source": [
        "3. Heterogeneous Elements\n",
        "\n",
        "Lists can store elements of different data types in a single list.\n",
        "\n",
        "Example:"
      ],
      "metadata": {
        "id": "TInAyT-4UJM_"
      }
    },
    {
      "cell_type": "code",
      "source": [
        "lst = [1, 'hello', 3.14, [2, 3]]\n",
        "print(lst)\n"
      ],
      "metadata": {
        "colab": {
          "base_uri": "https://localhost:8080/"
        },
        "id": "cM-dpNEIUOle",
        "outputId": "8e761b2d-af84-40a1-d785-8dd7512c29d4"
      },
      "execution_count": 14,
      "outputs": [
        {
          "output_type": "stream",
          "name": "stdout",
          "text": [
            "[1, 'hello', 3.14, [2, 3]]\n"
          ]
        }
      ]
    },
    {
      "cell_type": "markdown",
      "source": [
        "4. Mutable\n",
        "\n",
        "Lists are mutable, meaning their elements can be changed or updated.\n",
        "\n",
        "Example:"
      ],
      "metadata": {
        "id": "hXPiHvRaUwYN"
      }
    },
    {
      "cell_type": "code",
      "source": [
        "lst = [1, 2, 3]\n",
        "lst[1] = 20\n",
        "print(lst)\n"
      ],
      "metadata": {
        "colab": {
          "base_uri": "https://localhost:8080/"
        },
        "id": "mGZPs18FUyYV",
        "outputId": "598681ba-0c9a-4884-bd95-d550ea47277e"
      },
      "execution_count": 16,
      "outputs": [
        {
          "output_type": "stream",
          "name": "stdout",
          "text": [
            "[1, 20, 3]\n"
          ]
        }
      ]
    },
    {
      "cell_type": "markdown",
      "source": [
        "5. Supports Duplicates\n",
        "\n",
        "Lists allow duplicate values, unlike sets.\n",
        "\n",
        "Example:"
      ],
      "metadata": {
        "id": "WY2V68kpU42s"
      }
    },
    {
      "cell_type": "code",
      "source": [
        "lst = [1, 2, 2, 3, 3]\n",
        "print(lst)\n"
      ],
      "metadata": {
        "colab": {
          "base_uri": "https://localhost:8080/"
        },
        "id": "8doSast1U4cu",
        "outputId": "480de087-f5c0-4679-ded7-e687c15ebef6"
      },
      "execution_count": 17,
      "outputs": [
        {
          "output_type": "stream",
          "name": "stdout",
          "text": [
            "[1, 2, 2, 3, 3]\n"
          ]
        }
      ]
    },
    {
      "cell_type": "markdown",
      "source": [
        "6. Extensive Built-in Methods\n",
        "\n",
        "Python provides a wide range of methods for list manipulation, such as append(), extend(), insert(), remove(), pop(), and more.\n",
        "\n",
        "Example:"
      ],
      "metadata": {
        "id": "EeBsVN7dU_1t"
      }
    },
    {
      "cell_type": "code",
      "source": [
        "lst = [1, 2, 3]\n",
        "lst.insert(1, 'a')\n",
        "print(lst)\n"
      ],
      "metadata": {
        "colab": {
          "base_uri": "https://localhost:8080/"
        },
        "id": "FRahV_b2VF69",
        "outputId": "f9b81587-b368-47c0-e56c-124930033e93"
      },
      "execution_count": 18,
      "outputs": [
        {
          "output_type": "stream",
          "name": "stdout",
          "text": [
            "[1, 'a', 2, 3]\n"
          ]
        }
      ]
    },
    {
      "cell_type": "markdown",
      "source": [
        "**Example of Comprehensive Usage**"
      ],
      "metadata": {
        "id": "J1aSCgVOVNwN"
      }
    },
    {
      "cell_type": "code",
      "source": [
        "# Initializing a list\n",
        "lst = [10, 20, 30, 40, 50]\n",
        "\n",
        "# Adding elements\n",
        "lst.append(60)\n",
        "lst.extend([70, 80])\n",
        "\n",
        "# Removing elements\n",
        "lst.remove(20)\n",
        "popped = lst.pop()  # Removes and returns the last element\n",
        "\n",
        "# Modifying elements\n",
        "lst[1] = 25\n",
        "\n",
        "# Slicing\n",
        "sub_lst = lst[1:4]\n",
        "\n",
        "# Iterating\n",
        "for element in lst:\n",
        "    print(element)\n",
        "\n",
        "# Final list\n",
        "print(\"Updated List:\", lst)\n"
      ],
      "metadata": {
        "colab": {
          "base_uri": "https://localhost:8080/"
        },
        "id": "Ygx0Iri3VVaN",
        "outputId": "c110a260-6d56-4e9c-d1b8-ecdf521129b9"
      },
      "execution_count": 19,
      "outputs": [
        {
          "output_type": "stream",
          "name": "stdout",
          "text": [
            "10\n",
            "25\n",
            "40\n",
            "50\n",
            "60\n",
            "70\n",
            "Updated List: [10, 25, 40, 50, 60, 70]\n"
          ]
        }
      ]
    },
    {
      "cell_type": "markdown",
      "source": [
        "***Q.3  Describe how to access, modify, and delete elements in a list with examples ?***"
      ],
      "metadata": {
        "id": "NjScYIyUVjx-"
      }
    },
    {
      "cell_type": "markdown",
      "source": [
        "**1. Accessing Elements**\n",
        "\n",
        "You can access elements in a list using indexing or slicing.\n",
        "\n",
        "Using Indexing\n",
        "\n",
        "Python lists are indexed starting at 0.\n",
        "\n",
        "Negative indexing starts from the end (-1 is the last element).\n",
        "\n",
        "Examples:"
      ],
      "metadata": {
        "id": "3p-PvRSdVpCE"
      }
    },
    {
      "cell_type": "code",
      "source": [
        "lst = [10, 20, 30, 40, 50]\n",
        "print(lst[0])\n",
        "print(lst[-1])\n"
      ],
      "metadata": {
        "colab": {
          "base_uri": "https://localhost:8080/"
        },
        "id": "9Fd6bEdKV4Dd",
        "outputId": "9cdb000f-3a92-4b06-f1f7-fdec1c7e02e7"
      },
      "execution_count": 20,
      "outputs": [
        {
          "output_type": "stream",
          "name": "stdout",
          "text": [
            "10\n",
            "50\n"
          ]
        }
      ]
    },
    {
      "cell_type": "markdown",
      "source": [
        "Using Slicing\n",
        "\n",
        "Slicing retrieves a subset of the list based on start, stop, and step values.\n",
        "\n",
        "Examples:"
      ],
      "metadata": {
        "id": "8FIVe7KJV92c"
      }
    },
    {
      "cell_type": "code",
      "source": [
        "lst = [10, 20, 30, 40, 50]\n",
        "print(lst[1:4])\n",
        "print(lst[:3])\n",
        "print(lst[::2])\n"
      ],
      "metadata": {
        "colab": {
          "base_uri": "https://localhost:8080/"
        },
        "id": "2DpNrWHNV_dW",
        "outputId": "c6492092-582b-49f3-b63d-af229484851c"
      },
      "execution_count": 21,
      "outputs": [
        {
          "output_type": "stream",
          "name": "stdout",
          "text": [
            "[20, 30, 40]\n",
            "[10, 20, 30]\n",
            "[10, 30, 50]\n"
          ]
        }
      ]
    },
    {
      "cell_type": "markdown",
      "source": [
        "**2. Modifying Elements**\n",
        "\n",
        "We can change an element's value by assigning a new value to its index or modify multiple elements using slicing.\n",
        "\n",
        "Modifying a Single Element\n",
        "\n",
        "Example:"
      ],
      "metadata": {
        "id": "t-E06ExYWGbF"
      }
    },
    {
      "cell_type": "code",
      "source": [
        "lst = [10, 20, 30, 40, 50]\n",
        "lst[1] = 25\n",
        "print(lst)\n"
      ],
      "metadata": {
        "colab": {
          "base_uri": "https://localhost:8080/"
        },
        "id": "ogaLTG4zWM9F",
        "outputId": "514d4e77-3910-45ff-f49f-c623bb1745cf"
      },
      "execution_count": 23,
      "outputs": [
        {
          "output_type": "stream",
          "name": "stdout",
          "text": [
            "[10, 25, 30, 40, 50]\n"
          ]
        }
      ]
    },
    {
      "cell_type": "markdown",
      "source": [
        "Modifying Multiple Elements\n",
        "\n",
        "Example:"
      ],
      "metadata": {
        "id": "0qv70zEyWRa-"
      }
    },
    {
      "cell_type": "code",
      "source": [
        "lst = [10, 20, 30, 40, 50]\n",
        "lst[1:3] = [21, 31]\n",
        "print(lst)\n"
      ],
      "metadata": {
        "colab": {
          "base_uri": "https://localhost:8080/"
        },
        "id": "YkX8yRQ8WSjk",
        "outputId": "53a8b813-cbff-4958-b4af-e8859eca1dc3"
      },
      "execution_count": 24,
      "outputs": [
        {
          "output_type": "stream",
          "name": "stdout",
          "text": [
            "[10, 21, 31, 40, 50]\n"
          ]
        }
      ]
    },
    {
      "cell_type": "markdown",
      "source": [
        "Appending or Extending the List\n",
        "\n",
        "append(): Adds a single element at the end.\n",
        "\n",
        "extend(): Adds multiple elements.\n",
        "\n",
        "Example:"
      ],
      "metadata": {
        "id": "tv0zA3Y9WXAN"
      }
    },
    {
      "cell_type": "code",
      "source": [
        "lst = [10, 20, 30]\n",
        "lst.append(40)\n",
        "print(lst)\n",
        "\n",
        "lst.extend([50, 60])\n",
        "print(lst)\n"
      ],
      "metadata": {
        "colab": {
          "base_uri": "https://localhost:8080/"
        },
        "id": "ViRAUockWcul",
        "outputId": "fe14ddc3-76bd-42d7-f0d8-1cad47b26caa"
      },
      "execution_count": 25,
      "outputs": [
        {
          "output_type": "stream",
          "name": "stdout",
          "text": [
            "[10, 20, 30, 40]\n",
            "[10, 20, 30, 40, 50, 60]\n"
          ]
        }
      ]
    },
    {
      "cell_type": "markdown",
      "source": [
        "Inserting Elements\n",
        "\n",
        "Use insert(index, element) to add an element at a specific position."
      ],
      "metadata": {
        "id": "cYhzoHBlWiCt"
      }
    },
    {
      "cell_type": "code",
      "source": [
        "lst = [10, 20, 30]\n",
        "lst.insert(1, 15)\n",
        "print(lst)\n"
      ],
      "metadata": {
        "colab": {
          "base_uri": "https://localhost:8080/"
        },
        "id": "5O_b0eNGWjB8",
        "outputId": "997b5bed-32f3-4611-a7c0-1a18325ce9da"
      },
      "execution_count": 26,
      "outputs": [
        {
          "output_type": "stream",
          "name": "stdout",
          "text": [
            "[10, 15, 20, 30]\n"
          ]
        }
      ]
    },
    {
      "cell_type": "markdown",
      "source": [
        "**3. Deleting Elements**\n",
        "\n",
        "Python provides several ways to remove elements from a list.\n",
        "\n",
        "Using del Statement\n",
        "\n",
        "Deletes an element at a specific index or a slice of elements.\n",
        "\n",
        "Example:"
      ],
      "metadata": {
        "id": "O0sTDmpMWmkk"
      }
    },
    {
      "cell_type": "code",
      "source": [
        "lst = [10, 20, 30, 40, 50]\n",
        "del lst[1]\n",
        "print(lst)\n",
        "\n",
        "del lst[1:3]\n",
        "print(lst)\n"
      ],
      "metadata": {
        "colab": {
          "base_uri": "https://localhost:8080/"
        },
        "id": "Uw5SvOyLWrMM",
        "outputId": "b881329b-32e7-4ab8-d2a0-ca28384db311"
      },
      "execution_count": 27,
      "outputs": [
        {
          "output_type": "stream",
          "name": "stdout",
          "text": [
            "[10, 30, 40, 50]\n",
            "[10, 50]\n"
          ]
        }
      ]
    },
    {
      "cell_type": "markdown",
      "source": [
        "Using remove() Method\n",
        "\n",
        "Removes the first occurrence of a specified value.\n",
        "\n",
        "Example:"
      ],
      "metadata": {
        "id": "t35h76nwWw3l"
      }
    },
    {
      "cell_type": "code",
      "source": [
        "lst = [10, 20, 30, 20, 40]\n",
        "lst.remove(20)\n",
        "print(lst)\n"
      ],
      "metadata": {
        "colab": {
          "base_uri": "https://localhost:8080/"
        },
        "id": "ghoLhVotWywk",
        "outputId": "1d976a96-4a46-4d24-ce17-dcd941046278"
      },
      "execution_count": 28,
      "outputs": [
        {
          "output_type": "stream",
          "name": "stdout",
          "text": [
            "[10, 30, 20, 40]\n"
          ]
        }
      ]
    },
    {
      "cell_type": "markdown",
      "source": [
        "Using pop() Method\n",
        "\n",
        "Removes and returns the element at a specified index. By default, it removes the last element.\n",
        "\n",
        "Example:"
      ],
      "metadata": {
        "id": "seYVFqUnW4K8"
      }
    },
    {
      "cell_type": "code",
      "source": [
        "lst = [10, 20, 30, 40, 50]\n",
        "last_element = lst.pop()\n",
        "print(last_element)\n",
        "print(lst)\n",
        "\n",
        "second_element = lst.pop(1)\n",
        "print(second_element)\n",
        "print(lst)\n"
      ],
      "metadata": {
        "id": "uxu04opWW6Kd"
      },
      "execution_count": null,
      "outputs": []
    },
    {
      "cell_type": "markdown",
      "source": [
        "Clearing the Entire List\n",
        "\n",
        "Use clear() to remove all elements from the list."
      ],
      "metadata": {
        "id": "h_LzymM9XPi0"
      }
    },
    {
      "cell_type": "code",
      "source": [
        "lst = [10, 20, 30]\n",
        "lst.clear()\n",
        "print(lst)\n"
      ],
      "metadata": {
        "colab": {
          "base_uri": "https://localhost:8080/"
        },
        "id": "_DX9Y3jMXQ1d",
        "outputId": "beaab3e5-614f-4f18-fa70-67c4d53a4bdb"
      },
      "execution_count": 29,
      "outputs": [
        {
          "output_type": "stream",
          "name": "stdout",
          "text": [
            "[]\n"
          ]
        }
      ]
    },
    {
      "cell_type": "markdown",
      "source": [
        "Removing Elements Using Slicing\n",
        "\n",
        "Example:"
      ],
      "metadata": {
        "id": "OWoWYVoYXXgV"
      }
    },
    {
      "cell_type": "code",
      "source": [
        "lst = [10, 20, 30, 40, 50]\n",
        "lst[1:4] = []\n",
        "print(lst)\n"
      ],
      "metadata": {
        "colab": {
          "base_uri": "https://localhost:8080/"
        },
        "id": "xLuOkUZCXYcF",
        "outputId": "ebde42ed-8417-44d0-ebd5-015f6fbfaafb"
      },
      "execution_count": 30,
      "outputs": [
        {
          "output_type": "stream",
          "name": "stdout",
          "text": [
            "[10, 50]\n"
          ]
        }
      ]
    },
    {
      "cell_type": "markdown",
      "source": [
        "***Q.3  Compare and contrast tuples and lists with examples ?***"
      ],
      "metadata": {
        "id": "7SfrcdiEXn6z"
      }
    },
    {
      "cell_type": "markdown",
      "source": [
        "**Tuples and lists are both sequence data structures in Python, but they have key differences in their functionality, behavior, and usage.**\n",
        "\n"
      ],
      "metadata": {
        "id": "7-nWPXqdXrPV"
      }
    },
    {
      "cell_type": "markdown",
      "source": [
        "**1. Mutability**\n",
        "\n",
        "Lists: Mutable, meaning elements can be modified, added, or removed.\n",
        "\n",
        "Tuples: Immutable, meaning elements cannot be changed after creation.\n",
        "\n",
        "Example:"
      ],
      "metadata": {
        "id": "gRjz4LGgXyml"
      }
    },
    {
      "cell_type": "code",
      "source": [
        "# List\n",
        "lst = [1, 2, 3]\n",
        "lst[1] = 20\n",
        "print(lst)\n",
        "\n",
        "# Tuple\n",
        "tup = (1, 2, 3)\n",
        "\n"
      ],
      "metadata": {
        "colab": {
          "base_uri": "https://localhost:8080/"
        },
        "id": "NesyNStmX21M",
        "outputId": "c6434adf-e847-4186-f520-df417c2f997c"
      },
      "execution_count": 31,
      "outputs": [
        {
          "output_type": "stream",
          "name": "stdout",
          "text": [
            "[1, 20, 3]\n"
          ]
        }
      ]
    },
    {
      "cell_type": "markdown",
      "source": [
        "**2. Syntax**\n",
        "\n",
        "Lists: Defined using square brackets [].\n",
        "\n",
        "Tuples: Defined using parentheses ().\n",
        "\n",
        "Example:"
      ],
      "metadata": {
        "id": "gfaVPVL1X_09"
      }
    },
    {
      "cell_type": "code",
      "source": [
        "lst = [1, 2, 3]   # List\n",
        "tup = (1, 2, 3)   # Tuple\n"
      ],
      "metadata": {
        "id": "s4iF2wi2YOg0"
      },
      "execution_count": 32,
      "outputs": []
    },
    {
      "cell_type": "markdown",
      "source": [
        "**3. Performance**\n",
        "\n",
        "Lists: Slightly slower than tuples due to their mutability and extra overhead.\n",
        "\n",
        "Tuples: Faster because they are immutable and thus optimized for performance.\n",
        "\n",
        "Example:"
      ],
      "metadata": {
        "id": "aNbXBuqjYTEF"
      }
    },
    {
      "cell_type": "code",
      "source": [
        "import timeit\n",
        "print(timeit.timeit(stmt=\"[1, 2, 3, 4, 5]\", number=1000000))  # List\n",
        "print(timeit.timeit(stmt=\"(1, 2, 3, 4, 5)\", number=1000000))  # Tuple\n"
      ],
      "metadata": {
        "colab": {
          "base_uri": "https://localhost:8080/"
        },
        "id": "qLPYLWgkYWul",
        "outputId": "18166be8-e008-4364-b791-80f862a876fc"
      },
      "execution_count": 33,
      "outputs": [
        {
          "output_type": "stream",
          "name": "stdout",
          "text": [
            "0.0697905259999061\n",
            "0.015044674999899144\n"
          ]
        }
      ]
    },
    {
      "cell_type": "markdown",
      "source": [
        "**4. Usage**\n",
        "\n",
        "Lists: Used when the data can change or when a dynamic collection is needed.\n",
        "\n",
        "Tuples: Used when the data should remain constant, like fixed collections or dictionary keys.\n",
        "\n",
        "Example:"
      ],
      "metadata": {
        "id": "UAsvCOQyYsMf"
      }
    },
    {
      "cell_type": "code",
      "source": [
        "\n",
        "shopping_list = [\"eggs\", \"milk\", \"bread\"]\n",
        "shopping_list.append(\"butter\")\n",
        "print(shopping_list)\n",
        "\n",
        "\n",
        "coordinates = (10.0, 20.0)\n",
        "\n"
      ],
      "metadata": {
        "colab": {
          "base_uri": "https://localhost:8080/"
        },
        "id": "7r8W34QqYu-O",
        "outputId": "b1d577f7-2d77-4e93-aca1-ef9f30afde84"
      },
      "execution_count": 34,
      "outputs": [
        {
          "output_type": "stream",
          "name": "stdout",
          "text": [
            "['eggs', 'milk', 'bread', 'butter']\n"
          ]
        }
      ]
    },
    {
      "cell_type": "markdown",
      "source": [
        "**5. Size**\n",
        "\n",
        "Lists: Take more memory due to extra pointers and mutability.\n",
        "\n",
        "Tuples: More memory-efficient as they are immutable.\n",
        "\n",
        "Example:"
      ],
      "metadata": {
        "id": "99CIAprTY3-l"
      }
    },
    {
      "cell_type": "code",
      "source": [
        "import sys\n",
        "lst = [1, 2, 3, 4, 5]\n",
        "tup = (1, 2, 3, 4, 5)\n",
        "print(sys.getsizeof(lst))  # Larger size\n",
        "print(sys.getsizeof(tup))  # Smaller size\n"
      ],
      "metadata": {
        "colab": {
          "base_uri": "https://localhost:8080/"
        },
        "id": "nI-DZasXY6Sd",
        "outputId": "5e579c88-22fd-4286-b96a-b011a00ed816"
      },
      "execution_count": 35,
      "outputs": [
        {
          "output_type": "stream",
          "name": "stdout",
          "text": [
            "104\n",
            "80\n"
          ]
        }
      ]
    },
    {
      "cell_type": "markdown",
      "source": [
        "***Q.5 Describe the key features of sets and provide examples of their use ?***"
      ],
      "metadata": {
        "id": "F20U2_K9Y_3N"
      }
    },
    {
      "cell_type": "markdown",
      "source": [
        "**Key Features of Sets in Python**\n",
        "\n",
        "A set is a built-in data type in Python that represents an unordered, mutable, and collection of unique elements.\n",
        "\n",
        "It is optimized for fast membership testing and mathematical operations like union, intersection, and difference."
      ],
      "metadata": {
        "id": "0nO4dbKzZG59"
      }
    },
    {
      "cell_type": "markdown",
      "source": [
        "**1. Unordered**\n",
        "\n",
        "Sets do not maintain any specific order of elements.\n",
        "\n",
        "Elements are accessed indirectly (not by index or slice).\n",
        "\n",
        "Example:"
      ],
      "metadata": {
        "id": "vnzbRhZGZSk1"
      }
    },
    {
      "cell_type": "code",
      "source": [
        "s = {3, 1, 4, 2}\n",
        "print(s)\n"
      ],
      "metadata": {
        "colab": {
          "base_uri": "https://localhost:8080/"
        },
        "id": "6TRiDDUzZWmd",
        "outputId": "44916371-2300-449c-c6cc-1752388d9895"
      },
      "execution_count": 36,
      "outputs": [
        {
          "output_type": "stream",
          "name": "stdout",
          "text": [
            "{1, 2, 3, 4}\n"
          ]
        }
      ]
    },
    {
      "cell_type": "markdown",
      "source": [
        "**2. Unique Elements**\n",
        "\n",
        "Sets automatically remove duplicate values when created.\n",
        "\n",
        "Example:"
      ],
      "metadata": {
        "id": "AwZ0a8WJZZYd"
      }
    },
    {
      "cell_type": "code",
      "source": [
        "s = {1, 2, 2, 3}\n",
        "print(s)\n"
      ],
      "metadata": {
        "colab": {
          "base_uri": "https://localhost:8080/"
        },
        "id": "E_OCsZb0Zc8N",
        "outputId": "4f98d735-d59d-41ae-cb45-b9fbd86d994c"
      },
      "execution_count": 37,
      "outputs": [
        {
          "output_type": "stream",
          "name": "stdout",
          "text": [
            "{1, 2, 3}\n"
          ]
        }
      ]
    },
    {
      "cell_type": "markdown",
      "source": [
        "**3. Mutable**\n",
        "\n",
        "Sets are mutable, meaning you can add or remove elements.\n",
        "\n",
        "However, elements within a set must be immutable (e.g., numbers, strings, tuples).\n",
        "\n",
        "Example:"
      ],
      "metadata": {
        "id": "DRFqULHxZi2l"
      }
    },
    {
      "cell_type": "code",
      "source": [
        "s = {1, 2, 3}\n",
        "s.add(4)\n",
        "print(s)\n"
      ],
      "metadata": {
        "colab": {
          "base_uri": "https://localhost:8080/"
        },
        "id": "fEQwhxmrZnRu",
        "outputId": "ab145bc0-e1c5-4104-eae3-15351f15b6fa"
      },
      "execution_count": 38,
      "outputs": [
        {
          "output_type": "stream",
          "name": "stdout",
          "text": [
            "{1, 2, 3, 4}\n"
          ]
        }
      ]
    },
    {
      "cell_type": "markdown",
      "source": [
        "**4. No Indexing or Slicing**\n",
        "\n",
        "Since sets are unordered, they do not support indexing or slicing.\n",
        "\n",
        "Iteration is possible.\n",
        "\n",
        "Example:"
      ],
      "metadata": {
        "id": "vS2y6LXNZts0"
      }
    },
    {
      "cell_type": "code",
      "source": [
        "s = {1, 2, 3}\n",
        "for item in s:\n",
        "    print(item)\n"
      ],
      "metadata": {
        "colab": {
          "base_uri": "https://localhost:8080/"
        },
        "id": "UbS3xTSOZy7c",
        "outputId": "444bcdcd-ad0d-47db-c061-e7a1eccbc434"
      },
      "execution_count": 39,
      "outputs": [
        {
          "output_type": "stream",
          "name": "stdout",
          "text": [
            "1\n",
            "2\n",
            "3\n"
          ]
        }
      ]
    },
    {
      "cell_type": "markdown",
      "source": [
        "**5. Supports Mathematical Set Operations**\n",
        "\n",
        "Sets provide efficient methods for operations like union, intersection, difference, and symmetric difference.\n",
        "\n",
        "Examples:"
      ],
      "metadata": {
        "id": "uMwQHtgCZ1j_"
      }
    },
    {
      "cell_type": "code",
      "source": [
        "A = {1, 2, 3}\n",
        "B = {3, 4, 5}\n",
        "\n",
        "print(A | B)  # Union: {1, 2, 3, 4, 5}\n",
        "print(A & B)  # Intersection: {3}\n",
        "print(A - B)  # Difference: {1, 2}\n",
        "print(A ^ B)  # Symmetric Difference: {1, 2, 4, 5}\n"
      ],
      "metadata": {
        "colab": {
          "base_uri": "https://localhost:8080/"
        },
        "id": "BOLPTKAQZ7TX",
        "outputId": "c34f2654-3914-4858-9816-e130454340e1"
      },
      "execution_count": 40,
      "outputs": [
        {
          "output_type": "stream",
          "name": "stdout",
          "text": [
            "{1, 2, 3, 4, 5}\n",
            "{3}\n",
            "{1, 2}\n",
            "{1, 2, 4, 5}\n"
          ]
        }
      ]
    },
    {
      "cell_type": "markdown",
      "source": [
        "**6. High Performance**\n",
        "\n",
        "Sets are implemented using hash tables, making membership tests (in) very fast.\n",
        "\n",
        "Example:"
      ],
      "metadata": {
        "id": "60PBDQg5Z6zF"
      }
    },
    {
      "cell_type": "code",
      "source": [
        "s = {1, 2, 3}\n",
        "print(2 in s)\n"
      ],
      "metadata": {
        "colab": {
          "base_uri": "https://localhost:8080/"
        },
        "id": "MgbuK21raBYu",
        "outputId": "d7eedd72-cf6e-4224-e7de-cc0d36b5ad03"
      },
      "execution_count": 41,
      "outputs": [
        {
          "output_type": "stream",
          "name": "stdout",
          "text": [
            "True\n"
          ]
        }
      ]
    },
    {
      "cell_type": "markdown",
      "source": [
        "***Q.6  Discuss the use cases of tuples and sets in Python programming ?***"
      ],
      "metadata": {
        "id": "BD1uhjV7aRsD"
      }
    },
    {
      "cell_type": "markdown",
      "source": [
        "**Use Cases of Tuples and Sets in Python Programming**\n",
        "\n",
        "Tuples and sets each have specific characteristics that make them suitable for different tasks in Python programming. Below are some key use cases for each:\n",
        "\n"
      ],
      "metadata": {
        "id": "bcpj6WmSaVDs"
      }
    },
    {
      "cell_type": "markdown",
      "source": [
        "**Use Cases of Tuples**\n",
        "\n",
        "Tuples are immutable sequences, making them ideal for scenarios where data integrity is important, and the contents should remain constant.\n",
        "\n",
        "**1. Fixed Collections of Data**\n",
        "\n",
        "When you need a fixed collection of related elements that shouldn't change, use a tuple.\n",
        "\n",
        "Example:"
      ],
      "metadata": {
        "id": "6XMbzIcYaeLk"
      }
    },
    {
      "cell_type": "code",
      "source": [
        "coordinates = (10.5, 20.3)\n",
        "print(coordinates)\n"
      ],
      "metadata": {
        "colab": {
          "base_uri": "https://localhost:8080/"
        },
        "id": "xe4gwRg4alJk",
        "outputId": "71ff54c7-3912-46bc-f188-7f197a536f27"
      },
      "execution_count": 42,
      "outputs": [
        {
          "output_type": "stream",
          "name": "stdout",
          "text": [
            "(10.5, 20.3)\n"
          ]
        }
      ]
    },
    {
      "cell_type": "markdown",
      "source": [
        "**2. Return Multiple Values from Functions**\n",
        "\n",
        "Tuples are often used to return multiple values from a function.\n",
        "\n",
        "Example:"
      ],
      "metadata": {
        "id": "EOS6ZcwyaqtV"
      }
    },
    {
      "cell_type": "code",
      "source": [
        "def get_student():\n",
        "    return (\"Alice\", 20, \"Mathematics\")\n",
        "\n",
        "student = get_student()\n",
        "print(student)\n"
      ],
      "metadata": {
        "colab": {
          "base_uri": "https://localhost:8080/"
        },
        "id": "F0DF9y9UatHm",
        "outputId": "d5a7e3b4-16a4-44af-f074-7dffe867f360"
      },
      "execution_count": 43,
      "outputs": [
        {
          "output_type": "stream",
          "name": "stdout",
          "text": [
            "('Alice', 20, 'Mathematics')\n"
          ]
        }
      ]
    },
    {
      "cell_type": "markdown",
      "source": [
        "**3. Dictionary Keys**\n",
        "\n",
        "Tuples can be used as keys in dictionaries because they are immutable.\n",
        "\n",
        "Example:"
      ],
      "metadata": {
        "id": "C01N16ICaxvF"
      }
    },
    {
      "cell_type": "code",
      "source": [
        "locations = {\n",
        "    (10.5, 20.3): \"Park\",\n",
        "    (40.7, 74.0): \"City Center\"\n",
        "}\n",
        "print(locations[(10.5, 20.3)])\n"
      ],
      "metadata": {
        "colab": {
          "base_uri": "https://localhost:8080/"
        },
        "id": "6l50AhqCa0b3",
        "outputId": "73b86c0f-47dd-4a20-f692-bb78832814ce"
      },
      "execution_count": 44,
      "outputs": [
        {
          "output_type": "stream",
          "name": "stdout",
          "text": [
            "Park\n"
          ]
        }
      ]
    },
    {
      "cell_type": "markdown",
      "source": [
        "**4. Immutable Grouping**\n",
        "\n",
        "Group elements that should remain unchanged, such as configuration options or constants.\n",
        "\n",
        "Example:"
      ],
      "metadata": {
        "id": "yJdi6QEfa33l"
      }
    },
    {
      "cell_type": "code",
      "source": [
        "settings = (\"dark_mode\", True, 30)\n",
        "print(settings)\n"
      ],
      "metadata": {
        "colab": {
          "base_uri": "https://localhost:8080/"
        },
        "id": "XbooBwC7a559",
        "outputId": "95e6be58-b70f-4197-cc6c-7b4f8c20077b"
      },
      "execution_count": 45,
      "outputs": [
        {
          "output_type": "stream",
          "name": "stdout",
          "text": [
            "('dark_mode', True, 30)\n"
          ]
        }
      ]
    },
    {
      "cell_type": "markdown",
      "source": [
        "**5. Iteration Over Immutable Data**\n",
        "\n",
        "Used in situations where iterated data must not be altered, ensuring safety in operations.\n",
        "\n",
        "Example:"
      ],
      "metadata": {
        "id": "JdSmrw88a8o0"
      }
    },
    {
      "cell_type": "code",
      "source": [
        "weekdays = (\"Monday\", \"Tuesday\", \"Wednesday\", \"Thursday\", \"Friday\")\n",
        "for day in weekdays:\n",
        "    print(day)\n"
      ],
      "metadata": {
        "colab": {
          "base_uri": "https://localhost:8080/"
        },
        "id": "Ena7G2JCa_1N",
        "outputId": "b3100f3e-6ad9-4809-e333-fa2a7802eda4"
      },
      "execution_count": 46,
      "outputs": [
        {
          "output_type": "stream",
          "name": "stdout",
          "text": [
            "Monday\n",
            "Tuesday\n",
            "Wednesday\n",
            "Thursday\n",
            "Friday\n"
          ]
        }
      ]
    },
    {
      "cell_type": "markdown",
      "source": [
        "**Use Cases of Sets**\n",
        "\n",
        "Sets are unordered collections of unique elements, optimized for operations involving uniqueness, membership testing, and mathematical set operations.\n",
        "\n",
        "**1. Removing Duplicates from a Collection**\n",
        "\n",
        "Sets automatically eliminate duplicate values.\n",
        "\n",
        "Example:"
      ],
      "metadata": {
        "id": "JrTGeFFxbDVt"
      }
    },
    {
      "cell_type": "code",
      "source": [
        "data = [1, 2, 2, 3, 4, 4, 5]\n",
        "unique_data = set(data)\n",
        "print(unique_data)\n"
      ],
      "metadata": {
        "colab": {
          "base_uri": "https://localhost:8080/"
        },
        "id": "0f3M7Nd0bHMu",
        "outputId": "82053298-aa18-4094-8a21-78351c7f2845"
      },
      "execution_count": 48,
      "outputs": [
        {
          "output_type": "stream",
          "name": "stdout",
          "text": [
            "{1, 2, 3, 4, 5}\n"
          ]
        }
      ]
    },
    {
      "cell_type": "markdown",
      "source": [
        "**2. Fast Membership Testing**\n",
        "\n",
        "Sets are highly efficient for checking the presence of an element.\n",
        "\n",
        "Example:"
      ],
      "metadata": {
        "id": "99FdIje1bKSU"
      }
    },
    {
      "cell_type": "code",
      "source": [
        "items = {1001, 1002, 1003}\n",
        "print(1002 in items)\n"
      ],
      "metadata": {
        "colab": {
          "base_uri": "https://localhost:8080/"
        },
        "id": "hsAuqE8QbNs8",
        "outputId": "90efa8a6-7476-40cf-ba8e-0729787dee37"
      },
      "execution_count": 49,
      "outputs": [
        {
          "output_type": "stream",
          "name": "stdout",
          "text": [
            "True\n"
          ]
        }
      ]
    },
    {
      "cell_type": "markdown",
      "source": [
        "**3. Mathematical Set Operations**\n",
        "\n",
        "Sets are ideal for performing union, intersection, difference, and symmetric difference.\n",
        "\n",
        "Example:"
      ],
      "metadata": {
        "id": "dhomb-IgbTNm"
      }
    },
    {
      "cell_type": "code",
      "source": [
        "A = {1, 2, 3}\n",
        "B = {3, 4, 5}\n",
        "\n",
        "print(A | B)\n",
        "print(A & B)\n",
        "print(A - B)\n",
        "print(A ^ B)\n"
      ],
      "metadata": {
        "colab": {
          "base_uri": "https://localhost:8080/"
        },
        "id": "k_tGR_ZzbUzE",
        "outputId": "e12f9a21-d2f6-4895-e809-d4ee6bbd5390"
      },
      "execution_count": 50,
      "outputs": [
        {
          "output_type": "stream",
          "name": "stdout",
          "text": [
            "{1, 2, 3, 4, 5}\n",
            "{3}\n",
            "{1, 2}\n",
            "{1, 2, 4, 5}\n"
          ]
        }
      ]
    },
    {
      "cell_type": "markdown",
      "source": [
        "**4. Eliminating Redundant Data**\n",
        "\n",
        "Useful in scenarios like deduplicating user IDs or product lists.\n",
        "\n",
        "Example:"
      ],
      "metadata": {
        "id": "-o3ORo77baJd"
      }
    },
    {
      "cell_type": "code",
      "source": [
        "user_ids = [101, 102, 101, 103]\n",
        "unique_users = set(user_ids)\n",
        "print(unique_users)\n"
      ],
      "metadata": {
        "colab": {
          "base_uri": "https://localhost:8080/"
        },
        "id": "Wh6SETGfbc4E",
        "outputId": "27557894-11c4-4d2f-ebe1-a46aa5fbdf4f"
      },
      "execution_count": 51,
      "outputs": [
        {
          "output_type": "stream",
          "name": "stdout",
          "text": [
            "{101, 102, 103}\n"
          ]
        }
      ]
    },
    {
      "cell_type": "markdown",
      "source": [
        "**5. Comparing Data Sets**\n",
        "\n",
        "Sets allow you to compare groups of data efficiently.\n",
        "\n",
        "Example:"
      ],
      "metadata": {
        "id": "Mp1w2Iqlbj8E"
      }
    },
    {
      "cell_type": "code",
      "source": [
        "students_A = {\"Alice\", \"Bob\", \"Charlie\"}\n",
        "students_B = {\"Bob\", \"David\", \"Eve\"}\n",
        "\n",
        "common_students = students_A & students_B\n",
        "print(common_students)\n"
      ],
      "metadata": {
        "colab": {
          "base_uri": "https://localhost:8080/"
        },
        "id": "eNvXJROmbjXk",
        "outputId": "b8714964-5402-4ca6-fc2e-07701fd9d430"
      },
      "execution_count": 52,
      "outputs": [
        {
          "output_type": "stream",
          "name": "stdout",
          "text": [
            "{'Bob'}\n"
          ]
        }
      ]
    },
    {
      "cell_type": "markdown",
      "source": [
        "***Q.7  Describe how to add, modify, and delete items in a dictionary with examples ?***\n"
      ],
      "metadata": {
        "id": "-WgELaU6bzEO"
      }
    },
    {
      "cell_type": "markdown",
      "source": [
        "**Adding, Modifying, and Deleting Items in a Dictionary in Python**\n",
        "\n",
        "A dictionary in Python is a mutable data structure that stores key-value pairs.\n",
        "\n",
        "It allows you to efficiently manage data through various operations such as adding, modifying, and deleting items."
      ],
      "metadata": {
        "id": "BM5QTuKpcC0l"
      }
    },
    {
      "cell_type": "markdown",
      "source": [
        "**1. Adding Items to a Dictionary**\n",
        "\n",
        "You can add items to a dictionary by assigning a value to a new key.\n",
        "\n",
        "Syntax:"
      ],
      "metadata": {
        "id": "pYpyXHN9cJdc"
      }
    },
    {
      "cell_type": "markdown",
      "source": [
        "dictionary[key] = value"
      ],
      "metadata": {
        "id": "VuDUU7Y7cR1F"
      }
    },
    {
      "cell_type": "code",
      "source": [
        "# Creating an empty dictionary\n",
        "student = {}\n",
        "\n",
        "# Adding items\n",
        "student[\"name\"] = \"Alice\"\n",
        "student[\"age\"] = 20\n",
        "student[\"major\"] = \"Computer Science\"\n",
        "\n",
        "print(student)\n",
        "\n"
      ],
      "metadata": {
        "colab": {
          "base_uri": "https://localhost:8080/"
        },
        "id": "RaTwPx6icU9u",
        "outputId": "868ab98e-0d69-4186-c0dd-b315f995b64a"
      },
      "execution_count": 54,
      "outputs": [
        {
          "output_type": "stream",
          "name": "stdout",
          "text": [
            "{'name': 'Alice', 'age': 20, 'major': 'Computer Science'}\n"
          ]
        }
      ]
    },
    {
      "cell_type": "markdown",
      "source": [
        "Adding Multiple Items Using update():\n",
        "\n",
        "You can use the update() method to add multiple key-value pairs at once.\n",
        "\n",
        "Example:"
      ],
      "metadata": {
        "id": "Ly2ure_CcYUN"
      }
    },
    {
      "cell_type": "code",
      "source": [
        "student = {\"name\": \"Alice\", \"age\": 20}\n",
        "student.update({\"major\": \"Computer Science\", \"year\": 2})\n",
        "\n",
        "print(student)\n",
        "\n"
      ],
      "metadata": {
        "colab": {
          "base_uri": "https://localhost:8080/"
        },
        "id": "dLhr9Qfhca4X",
        "outputId": "c796447f-2ac5-40e5-9f2f-592b03b709ac"
      },
      "execution_count": 55,
      "outputs": [
        {
          "output_type": "stream",
          "name": "stdout",
          "text": [
            "{'name': 'Alice', 'age': 20, 'major': 'Computer Science', 'year': 2}\n"
          ]
        }
      ]
    },
    {
      "cell_type": "markdown",
      "source": [
        "**2. Modifying Items in a Dictionary**\n",
        "\n",
        "You can modify the value associated with a specific key by assigning a new value to it.\n",
        "\n",
        "Syntax:\n",
        "\n",
        "dictionary[key] = new_value"
      ],
      "metadata": {
        "id": "9sqiO4ohcdOG"
      }
    },
    {
      "cell_type": "code",
      "source": [
        "student = {\"name\": \"Alice\", \"age\": 20, \"major\": \"Physics\"}\n",
        "\n",
        "# Modifying an existing key\n",
        "student[\"major\"] = \"Computer Science\"\n",
        "student[\"age\"] = 21\n",
        "\n",
        "print(student)\n",
        "\n"
      ],
      "metadata": {
        "colab": {
          "base_uri": "https://localhost:8080/"
        },
        "id": "AExUl0upcni9",
        "outputId": "009187df-68b9-46c2-90b0-386c704d1a3c"
      },
      "execution_count": 56,
      "outputs": [
        {
          "output_type": "stream",
          "name": "stdout",
          "text": [
            "{'name': 'Alice', 'age': 21, 'major': 'Computer Science'}\n"
          ]
        }
      ]
    },
    {
      "cell_type": "markdown",
      "source": [
        "Modifying Multiple Items Using update():\n",
        "\n",
        "You can update multiple key-value pairs simultaneously.\n",
        "\n",
        "Example:"
      ],
      "metadata": {
        "id": "sY9TveQ8csJ2"
      }
    },
    {
      "cell_type": "code",
      "source": [
        "student = {\"name\": \"Alice\", \"age\": 20}\n",
        "student.update({\"age\": 21, \"major\": \"Computer Science\"})\n",
        "\n",
        "print(student)"
      ],
      "metadata": {
        "colab": {
          "base_uri": "https://localhost:8080/"
        },
        "id": "LfXMWr0jctPd",
        "outputId": "069c5f67-e5a7-411b-8808-71a7ce93017b"
      },
      "execution_count": 57,
      "outputs": [
        {
          "output_type": "stream",
          "name": "stdout",
          "text": [
            "{'name': 'Alice', 'age': 21, 'major': 'Computer Science'}\n"
          ]
        }
      ]
    },
    {
      "cell_type": "markdown",
      "source": [
        "**3. Deleting Items from a Dictionary**\n",
        "\n",
        "You can delete items using the del statement, the pop() method, or the popitem() method.\n",
        "\n",
        "a. Using del\n",
        "\n",
        "Deletes a key-value pair based on the key.\n",
        "\n",
        "Syntax:\n",
        "\n",
        "del dictionary[key]"
      ],
      "metadata": {
        "id": "UIFgl0ZkcxY9"
      }
    },
    {
      "cell_type": "code",
      "source": [
        "student = {\"name\": \"Alice\", \"age\": 20, \"major\": \"Physics\"}\n",
        "\n",
        "# Deleting the 'major' key\n",
        "del student[\"major\"]\n",
        "\n",
        "print(student)\n",
        "\n"
      ],
      "metadata": {
        "colab": {
          "base_uri": "https://localhost:8080/"
        },
        "id": "him3MBq1c3yY",
        "outputId": "5e743082-fec2-453c-e5f1-3d6041baa06d"
      },
      "execution_count": 58,
      "outputs": [
        {
          "output_type": "stream",
          "name": "stdout",
          "text": [
            "{'name': 'Alice', 'age': 20}\n"
          ]
        }
      ]
    },
    {
      "cell_type": "markdown",
      "source": [
        "b. Using pop()\n",
        "\n",
        "Removes the specified key and returns its value.\n",
        "\n",
        "Syntax:\n",
        "\n",
        "value = dictionary.pop(key, default_value)"
      ],
      "metadata": {
        "id": "wokeqUaoc3QU"
      }
    },
    {
      "cell_type": "code",
      "source": [
        "student = {\"name\": \"Alice\", \"age\": 20, \"major\": \"Physics\"}\n",
        "\n",
        "# Removing the 'major' key\n",
        "major = student.pop(\"major\")\n",
        "\n",
        "print(major)\n",
        "print(student)\n"
      ],
      "metadata": {
        "colab": {
          "base_uri": "https://localhost:8080/"
        },
        "id": "HOB7oDUDc_LN",
        "outputId": "b5bcf18b-21fc-4320-d1d0-8017f350c4bf"
      },
      "execution_count": 60,
      "outputs": [
        {
          "output_type": "stream",
          "name": "stdout",
          "text": [
            "Physics\n",
            "{'name': 'Alice', 'age': 20}\n"
          ]
        }
      ]
    },
    {
      "cell_type": "markdown",
      "source": [
        "c. Using popitem()\n",
        "\n",
        "Removes and returns the last inserted key-value pair as a tuple.\n",
        "\n",
        "Syntax:\n",
        "\n",
        "key, value = dictionary.popitem()"
      ],
      "metadata": {
        "id": "PBUY8kyMdC12"
      }
    },
    {
      "cell_type": "code",
      "source": [
        "student = {\"name\": \"Alice\", \"age\": 20, \"major\": \"Physics\"}\n",
        "\n",
        "# Removing the last item\n",
        "last_item = student.popitem()\n",
        "\n",
        "print(last_item)\n",
        "print(student)\n"
      ],
      "metadata": {
        "colab": {
          "base_uri": "https://localhost:8080/"
        },
        "id": "atUNbzVXdGTV",
        "outputId": "c86fb9cc-f0d2-4be4-90eb-7db4e002a580"
      },
      "execution_count": 61,
      "outputs": [
        {
          "output_type": "stream",
          "name": "stdout",
          "text": [
            "('major', 'Physics')\n",
            "{'name': 'Alice', 'age': 20}\n"
          ]
        }
      ]
    },
    {
      "cell_type": "markdown",
      "source": [
        "d. Using clear()\n",
        "\n",
        "Removes all items from the dictionary.\n",
        "\n",
        "Syntax:\n",
        "\n",
        "dictionary.clear()"
      ],
      "metadata": {
        "id": "3GyC6dWmdJM9"
      }
    },
    {
      "cell_type": "code",
      "source": [
        "student = {\"name\": \"Alice\", \"age\": 20, \"major\": \"Physics\"}\n",
        "\n",
        "# Clearing all items\n",
        "student.clear()\n",
        "\n",
        "print(student)\n"
      ],
      "metadata": {
        "colab": {
          "base_uri": "https://localhost:8080/"
        },
        "id": "1Acku6I3dMh6",
        "outputId": "d045df3e-31d3-4b06-9ecf-0cab9adecd34"
      },
      "execution_count": 62,
      "outputs": [
        {
          "output_type": "stream",
          "name": "stdout",
          "text": [
            "{}\n"
          ]
        }
      ]
    },
    {
      "cell_type": "markdown",
      "source": [
        "***Q.8  Discuss the importance of dictionary keys being immutable and provide example ?***"
      ],
      "metadata": {
        "id": "9XeuX-Q3dVXY"
      }
    },
    {
      "cell_type": "markdown",
      "source": [
        "**Importance of Dictionary Keys Being Immutable in Python**\n",
        "\n",
        "In Python, dictionary keys must be immutable and hashable because dictionaries use a hash table internally to store key-value pairs. This structure relies on the ability to compute a consistent hash value for each key, which determines where the key-value pair is stored."
      ],
      "metadata": {
        "id": "b-BSI_LTdasm"
      }
    },
    {
      "cell_type": "markdown",
      "source": [
        "**Key Points:**\n",
        "\n",
        "**1. Consistency in Hashing:**\n",
        "\n",
        "A hash value is computed when a key is added to the dictionary.\n",
        "If the key changes after being added (mutable), the hash value would change, making it impossible to locate the key's value in the hash table.\n",
        "\n",
        "**2. Data Integrity:**\n",
        "\n",
        "Ensuring that keys are immutable avoids accidental modifications, preserving the stability and reliability of dictionary lookups.\n",
        "\n",
        "**3. Efficiency:**\n",
        "\n",
        "Immutable keys allow for faster lookups and retrieval operations, as the hash value remains constant."
      ],
      "metadata": {
        "id": "mnM7czh5dfe_"
      }
    },
    {
      "cell_type": "markdown",
      "source": [
        "**What Types Can Be Keys?**\n",
        "\n",
        "Allowed: Immutable types like int, float, str, tuple (if all elements in the tuple are immutable), frozenset.\n",
        "\n",
        "Not Allowed: Mutable types like list, dict, or set.\n"
      ],
      "metadata": {
        "id": "l0Qa9U0cdvDu"
      }
    },
    {
      "cell_type": "markdown",
      "source": [
        "Examples\n",
        "\n",
        "Valid Immutable Keys"
      ],
      "metadata": {
        "id": "oskATzNFd12W"
      }
    },
    {
      "cell_type": "code",
      "source": [
        "# Integer key\n",
        "my_dict = {1: \"One\", 2: \"Two\"}\n",
        "\n",
        "# String key\n",
        "my_dict = {\"name\": \"Alice\", \"age\": 25}\n",
        "\n",
        "# Tuple key (with immutable elements)\n",
        "my_dict = {(1, 2): \"Point A\", (3, 4): \"Point B\"}\n"
      ],
      "metadata": {
        "id": "o4pnDoaBd0Ed"
      },
      "execution_count": 63,
      "outputs": []
    },
    {
      "cell_type": "markdown",
      "source": [
        "Invalid Mutable Keys"
      ],
      "metadata": {
        "id": "IOCPJQBpd639"
      }
    },
    {
      "cell_type": "markdown",
      "source": [
        "# List as a key (raises TypeError)\n",
        "my_dict = {[1, 2, 3]: \"Value\"}  \n",
        "# Output: TypeError: unhashable type: 'list'\n",
        "\n",
        "# Set as a key (raises TypeError)\n",
        "my_dict = {{1, 2, 3}: \"Value\"}  \n",
        "# Output: TypeError: unhashable type: 'set'\n"
      ],
      "metadata": {
        "id": "e_vyUaT2eEJ8"
      }
    },
    {
      "cell_type": "markdown",
      "source": [
        "**Practical Example**\n",
        "\n",
        "Why Mutable Keys Are Problematic"
      ],
      "metadata": {
        "id": "x-B63EIBeGk0"
      }
    },
    {
      "cell_type": "markdown",
      "source": [
        "# Using a list as a key (Hypothetical)\n",
        "key = [1, 2, 3]\n",
        "my_dict = {key: \"Value\"}\n",
        "\n",
        "# Modify the list\n",
        "key.append(4)\n",
        "\n",
        "# The hash value changes, breaking dictionary integrity\n",
        "print(my_dict[key])  # This would fail in practice\n"
      ],
      "metadata": {
        "id": "DgZJ3eG_eOt9"
      }
    },
    {
      "cell_type": "markdown",
      "source": [
        "This is why Python enforces the rule that keys must be immutable."
      ],
      "metadata": {
        "id": "40lJotbWePr-"
      }
    },
    {
      "cell_type": "markdown",
      "source": [
        "**Real-World Scenario**\n",
        "\n",
        "Using immutable keys like tuples can be highly beneficial when representing composite data.\n",
        "\n",
        "Example: Coordinate System"
      ],
      "metadata": {
        "id": "cTBe_1PceVa8"
      }
    },
    {
      "cell_type": "code",
      "source": [
        "# Tuple as a key\n",
        "coordinates = {\n",
        "    (10, 20): \"Location A\",\n",
        "    (30, 40): \"Location B\"\n",
        "}\n",
        "\n",
        "print(coordinates[(10, 20)])\n"
      ],
      "metadata": {
        "colab": {
          "base_uri": "https://localhost:8080/"
        },
        "id": "sXIrjLhJeYt2",
        "outputId": "7af11a85-5771-43de-8e45-a4f00eccad1e"
      },
      "execution_count": 66,
      "outputs": [
        {
          "output_type": "stream",
          "name": "stdout",
          "text": [
            "Location A\n"
          ]
        }
      ]
    }
  ]
}