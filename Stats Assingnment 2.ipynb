{
 "cells": [
  {
   "cell_type": "markdown",
   "id": "1afa1b01",
   "metadata": {},
   "source": [
    "### What is hypothesis testing in statistics?"
   ]
  },
  {
   "cell_type": "code",
   "execution_count": null,
   "id": "08e27976",
   "metadata": {},
   "outputs": [],
   "source": [
    "\"\"\"\n",
    "Hypothesis testing is a statistical method used to determine whether there is enough evidence in a sample to infer that a certain condition holds for the entire population. It involves formulating a null and an alternative hypothesis and using statistical tests to make a decision.\n",
    "\"\"\""
   ]
  },
  {
   "cell_type": "markdown",
   "id": "45be97da",
   "metadata": {},
   "source": [
    "### What is the null hypothesis, and how does it differ from the alternative hypothesis?"
   ]
  },
  {
   "cell_type": "code",
   "execution_count": null,
   "id": "42e5c3f9",
   "metadata": {},
   "outputs": [],
   "source": [
    "\"\"\"\n",
    "The null hypothesis (H0) is a statement that there is no effect or no difference. It represents the status quo. The alternative hypothesis (H1) is the opposite and represents the claim we are trying to test. Hypothesis tests determine whether there is enough evidence to reject H0 in favor of H1.\n",
    "\"\"\""
   ]
  },
  {
   "cell_type": "markdown",
   "id": "3c9c4296",
   "metadata": {},
   "source": [
    "### What is the significance level in hypothesis testing, and why is it important?"
   ]
  },
  {
   "cell_type": "code",
   "execution_count": null,
   "id": "98ab153a",
   "metadata": {},
   "outputs": [],
   "source": [
    "\"\"\"\n",
    "The significance level (α) is the probability of rejecting the null hypothesis when it is actually true. Common values are 0.05 or 0.01. It defines the threshold for statistical significance, helping to control the Type 1 error rate.\n",
    "\"\"\""
   ]
  },
  {
   "cell_type": "markdown",
   "id": "c7b5a57b",
   "metadata": {},
   "source": [
    "### What does a P-value represent in hypothesis testing?"
   ]
  },
  {
   "cell_type": "code",
   "execution_count": null,
   "id": "fea099f5",
   "metadata": {},
   "outputs": [],
   "source": [
    "\"\"\"\n",
    "A P-value is the probability of obtaining results at least as extreme as the observed data, assuming the null hypothesis is true. A smaller P-value indicates stronger evidence against the null hypothesis.\n",
    "\"\"\""
   ]
  },
  {
   "cell_type": "markdown",
   "id": "9b353f77",
   "metadata": {},
   "source": [
    "### How do you interpret the P-value in hypothesis testing?"
   ]
  },
  {
   "cell_type": "code",
   "execution_count": null,
   "id": "ba1f9581",
   "metadata": {},
   "outputs": [],
   "source": [
    "\"\"\"\n",
    "If the P-value is less than the significance level (α), we reject the null hypothesis. If it is greater, we fail to reject H0. For example, if α = 0.05 and P-value = 0.02, we reject H0.\n",
    "\"\"\""
   ]
  },
  {
   "cell_type": "markdown",
   "id": "6be6774c",
   "metadata": {},
   "source": [
    "### What are Type 1 and Type 2 errors in hypothesis testing?"
   ]
  },
  {
   "cell_type": "code",
   "execution_count": null,
   "id": "0e10ab47",
   "metadata": {},
   "outputs": [],
   "source": [
    "\"\"\"\n",
    "Type 1 error (false positive) occurs when we reject a true null hypothesis. Type 2 error (false negative) occurs when we fail to reject a false null hypothesis. Reducing one often increases the other.\n",
    "\"\"\""
   ]
  },
  {
   "cell_type": "markdown",
   "id": "b18adca9",
   "metadata": {},
   "source": [
    "### What is the difference between a one-tailed and a two-tailed test in hypothesis testing?"
   ]
  },
  {
   "cell_type": "code",
   "execution_count": null,
   "id": "1b569f94",
   "metadata": {},
   "outputs": [],
   "source": [
    "\"\"\"\n",
    "A one-tailed test checks for an effect in one direction (e.g., greater than or less than), while a two-tailed test checks for an effect in both directions.\n",
    "\"\"\""
   ]
  },
  {
   "cell_type": "markdown",
   "id": "55e560f7",
   "metadata": {},
   "source": [
    "### What is the Z-test, and when is it used in hypothesis testing?"
   ]
  },
  {
   "cell_type": "code",
   "execution_count": null,
   "id": "e4973b9b",
   "metadata": {},
   "outputs": [],
   "source": [
    "\"\"\"\n",
    "A Z-test is used when the population variance is known and the sample size is large (typically n > 30). It helps test hypotheses about population means or proportions.\n",
    "\"\"\""
   ]
  },
  {
   "cell_type": "markdown",
   "id": "9aaf64ba",
   "metadata": {},
   "source": [
    "### How do you calculate the Z-score, and what does it represent in hypothesis testing?"
   ]
  },
  {
   "cell_type": "code",
   "execution_count": null,
   "id": "627ef35d",
   "metadata": {},
   "outputs": [],
   "source": [
    "\"\"\"\n",
    "Z-score = (X - μ) / (σ / sqrt(n)). It measures how many standard deviations a sample mean is from the population mean.\n",
    "\"\"\""
   ]
  },
  {
   "cell_type": "markdown",
   "id": "6d69d3b0",
   "metadata": {},
   "source": [
    "### What is the T-distribution, and when should it be used instead of the normal distribution?"
   ]
  },
  {
   "cell_type": "code",
   "execution_count": null,
   "id": "98cb45dd",
   "metadata": {},
   "outputs": [],
   "source": [
    "\"\"\"\n",
    "The T-distribution is used instead of the normal distribution when the sample size is small (n < 30) and the population standard deviation is unknown.\n",
    "\"\"\""
   ]
  },
  {
   "cell_type": "markdown",
   "id": "25d843a1",
   "metadata": {},
   "source": [
    "### What is the difference between a Z-test and a T-test?"
   ]
  },
  {
   "cell_type": "code",
   "execution_count": null,
   "id": "b104aa48",
   "metadata": {},
   "outputs": [],
   "source": [
    "\"\"\"\n",
    "A Z-test is used when the population variance is known and the sample size is large. A T-test is used when the population variance is unknown and the sample size is small.\n",
    "\"\"\""
   ]
  },
  {
   "cell_type": "markdown",
   "id": "77e694ef",
   "metadata": {},
   "source": [
    "### What is the T-test, and how is it used in hypothesis testing?"
   ]
  },
  {
   "cell_type": "code",
   "execution_count": null,
   "id": "bc8a480e",
   "metadata": {},
   "outputs": [],
   "source": [
    "\"\"\"\n",
    "A T-test compares the means of two groups to determine if they are significantly different from each other. It is commonly used in small sample hypothesis testing.\n",
    "\"\"\""
   ]
  },
  {
   "cell_type": "markdown",
   "id": "faa8cdf9",
   "metadata": {},
   "source": [
    "### What is the relationship between Z-test and T-test in hypothesis testing?"
   ]
  },
  {
   "cell_type": "code",
   "execution_count": null,
   "id": "a0b63d25",
   "metadata": {},
   "outputs": [],
   "source": [
    "\"\"\"\n",
    "Both tests compare means, but the Z-test is used for larger samples with known variance, while the T-test is used for smaller samples with unknown variance.\n",
    "\"\"\""
   ]
  },
  {
   "cell_type": "markdown",
   "id": "9e031409",
   "metadata": {},
   "source": [
    "### What is a confidence interval, and how is it used to interpret statistical results?"
   ]
  },
  {
   "cell_type": "code",
   "execution_count": null,
   "id": "3c5d6ce5",
   "metadata": {},
   "outputs": [],
   "source": [
    "\"\"\"\n",
    "A confidence interval is a range of values that likely contain the true population parameter. It helps quantify the uncertainty around an estimate.\n",
    "\"\"\""
   ]
  },
  {
   "cell_type": "markdown",
   "id": "d3b3890c",
   "metadata": {},
   "source": [
    "### What is the margin of error, and how does it affect the confidence interval?"
   ]
  },
  {
   "cell_type": "code",
   "execution_count": null,
   "id": "d3851cba",
   "metadata": {},
   "outputs": [],
   "source": [
    "\"\"\"\n",
    "The margin of error is the range above and below the sample statistic in a confidence interval. A smaller margin of error means more precise estimates.\n",
    "\"\"\""
   ]
  },
  {
   "cell_type": "markdown",
   "id": "40689c78",
   "metadata": {},
   "source": [
    "### How is Bayes' Theorem used in statistics, and what is its significance?"
   ]
  },
  {
   "cell_type": "code",
   "execution_count": null,
   "id": "8d58376b",
   "metadata": {},
   "outputs": [],
   "source": [
    "\"\"\"\n",
    "Bayes' Theorem describes the probability of an event based on prior knowledge. It is widely used in machine learning and probabilistic inference.\n",
    "\"\"\""
   ]
  },
  {
   "cell_type": "markdown",
   "id": "5bf594b8",
   "metadata": {},
   "source": [
    "### What is the Chi-square distribution, and when is it used?"
   ]
  },
  {
   "cell_type": "code",
   "execution_count": null,
   "id": "d91a3914",
   "metadata": {},
   "outputs": [],
   "source": [
    "\"\"\"\n",
    "The Chi-square distribution is used for categorical data analysis, including goodness-of-fit tests and independence tests.\n",
    "\"\"\""
   ]
  },
  {
   "cell_type": "markdown",
   "id": "93c658b8",
   "metadata": {},
   "source": [
    "### What is the Chi-square goodness of fit test, and how is it applied?"
   ]
  },
  {
   "cell_type": "code",
   "execution_count": null,
   "id": "08b6fa59",
   "metadata": {},
   "outputs": [],
   "source": [
    "\"\"\"\n",
    "The Chi-square goodness of fit test checks whether observed frequencies match expected frequencies in categorical data.\n",
    "\"\"\""
   ]
  },
  {
   "cell_type": "markdown",
   "id": "79a5a15c",
   "metadata": {},
   "source": [
    "### What is the F-distribution, and when is it used in hypothesis testing?"
   ]
  },
  {
   "cell_type": "code",
   "execution_count": null,
   "id": "1c66d120",
   "metadata": {},
   "outputs": [],
   "source": [
    "\"\"\"\n",
    "The F-distribution is used in variance analysis, such as ANOVA and regression analysis.\n",
    "\"\"\""
   ]
  },
  {
   "cell_type": "markdown",
   "id": "0bb8d4b1",
   "metadata": {},
   "source": [
    "### What is an ANOVA test, and what are its assumptions?"
   ]
  },
  {
   "cell_type": "code",
   "execution_count": null,
   "id": "edcb1163",
   "metadata": {},
   "outputs": [],
   "source": [
    "\"\"\"\n",
    "ANOVA (Analysis of Variance) compares means across multiple groups to check if they are significantly different. Assumptions include normality, homogeneity of variances, and independence.\n",
    "\"\"\""
   ]
  },
  {
   "cell_type": "markdown",
   "id": "50d3559b",
   "metadata": {},
   "source": [
    "### What are the different types of ANOVA tests?"
   ]
  },
  {
   "cell_type": "code",
   "execution_count": null,
   "id": "c6490c94",
   "metadata": {},
   "outputs": [],
   "source": [
    "\"\"\"\n",
    "Types of ANOVA include one-way ANOVA (one independent variable), two-way ANOVA (two independent variables), and repeated measures ANOVA.\n",
    "\"\"\""
   ]
  },
  {
   "cell_type": "markdown",
   "id": "b6f1e9c8",
   "metadata": {},
   "source": [
    "### What is the F-test, and how does it relate to hypothesis testing?"
   ]
  },
  {
   "cell_type": "code",
   "execution_count": null,
   "id": "1c9de712",
   "metadata": {},
   "outputs": [],
   "source": [
    "\"\"\"\n",
    "The F-test compares variances to determine if two or more groups have significantly different variability. It is used in ANOVA and regression analysis.\n",
    "\"\"\""
   ]
  }
 ],
 "metadata": {},
 "nbformat": 4,
 "nbformat_minor": 5
}
