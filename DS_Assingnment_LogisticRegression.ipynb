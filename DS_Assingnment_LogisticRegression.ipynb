{
  "nbformat": 4,
  "nbformat_minor": 0,
  "metadata": {
    "colab": {
      "provenance": []
    },
    "kernelspec": {
      "name": "python3",
      "display_name": "Python 3"
    },
    "language_info": {
      "name": "python"
    }
  },
  "cells": [
    {
      "cell_type": "markdown",
      "source": [
        "***1. What is Logistic Regression, and how does it differ from Linear Regression?***\n",
        "\n",
        "Logistic Regression is a classification algorithm used to predict categorical outcomes (e.g., binary 0/1). It applies the sigmoid function to map predictions into a probability range (0,1).\n",
        "\n",
        "**Difference from Linear Regression:**\n",
        "\n",
        "Linear Regression predicts continuous values, while Logistic Regression predicts probabilities for discrete classes.\n",
        "\n",
        "Logistic Regression uses a sigmoid activation function to output probabilities, whereas Linear Regression fits a straight line."
      ],
      "metadata": {
        "id": "e2UJrnTdM0oC"
      }
    },
    {
      "cell_type": "markdown",
      "source": [
        "***2. What is the mathematical equation of Logistic Regression?***\n",
        "\n",
        "The hypothesis function for Logistic Regression is:\n",
        "![image.png](data:image/png;base64,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)\n",
        "\n",
        "Here,\n",
        "ℎ\n",
        "𝜃\n",
        "(\n",
        "𝑥\n",
        ")\n",
        "h\n",
        "θ\n",
        "​\n",
        " (x) represents the probability of the positive class (1)."
      ],
      "metadata": {
        "id": "Or1gsBRDM9NU"
      }
    },
    {
      "cell_type": "markdown",
      "source": [
        "***3. Why do we use the Sigmoid function in Logistic Regression?***\n",
        "\n",
        "The sigmoid function converts any real-valued input into a probability between 0 and 1:\n",
        "\n",
        "![image.png](data:image/png;base64,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)\n",
        "\n",
        "This helps in making classification decisions based on a threshold (e.g., 0.5)."
      ],
      "metadata": {
        "id": "F0zweVPXNa6-"
      }
    },
    {
      "cell_type": "markdown",
      "source": [
        "***4. What is the cost function of Logistic Regression?***\n",
        "\n",
        "Instead of using Mean Squared Error (MSE), we use Log Loss (Binary Cross-Entropy):\n",
        "![image.png](data:image/png;base64,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)\n",
        "\n",
        "This ensures the function is convex and suitable for optimization using gradient descent."
      ],
      "metadata": {
        "id": "pUBuyFyaNxK6"
      }
    },
    {
      "cell_type": "markdown",
      "source": [
        "***5. What is Regularization in Logistic Regression? Why is it needed?***\n",
        "\n",
        "Regularization helps prevent overfitting by adding a penalty term to the cost function.\n",
        "\n",
        "Common types: L1 (Lasso) and L2 (Ridge) regularization.\n",
        "\n",
        "Regularization shrinks the model coefficients, reducing complexity and improving generalization."
      ],
      "metadata": {
        "id": "CbYKNeMfN-dM"
      }
    },
    {
      "cell_type": "markdown",
      "source": [
        "***6. Explain the difference between Lasso, Ridge, and Elastic Net regression?***\n",
        "\n",
        "Lasso (L1): Shrinks some coefficients to zero, performing feature selection.\n",
        "\n",
        "Ridge (L2): Shrinks coefficients but does not set them to zero.\n",
        "\n",
        "Elastic Net: Combines both L1 and L2, balancing feature selection and coefficient shrinkage."
      ],
      "metadata": {
        "id": "N9YLPLL8OFSz"
      }
    },
    {
      "cell_type": "markdown",
      "source": [
        "***7. When should we use Elastic Net instead of Lasso or Ridge?***\n",
        "\n",
        "Use Elastic Net when:\n",
        "\n",
        "Features are highly correlated.\n",
        "\n",
        "Lasso selects too few features, and Ridge is too smooth.\n",
        "\n",
        "You need a balance between feature selection (L1) and coefficient shrinkage (L2)."
      ],
      "metadata": {
        "id": "J4-LNKuEOQM-"
      }
    },
    {
      "cell_type": "markdown",
      "source": [
        "***8. What is the impact of the regularization parameter (λ) in Logistic Regression?***\n",
        "\n",
        "Higher λ: More regularization → Simpler model → Risk of underfitting.\n",
        "\n",
        "Lower λ: Less regularization → More complex model → Risk of overfitting.\n",
        "\n",
        "λ controls the trade-off between bias and variance."
      ],
      "metadata": {
        "id": "fWGz-SCIOYZ4"
      }
    },
    {
      "cell_type": "markdown",
      "source": [
        "***9. What are the key assumptions of Logistic Regression?***\n",
        "\n",
        "Linearity of independent variables in the log-odds space.\n",
        "\n",
        "No multicollinearity among features.\n",
        "\n",
        "Large sample size for reliable estimates.\n",
        "\n",
        "Independence of observations."
      ],
      "metadata": {
        "id": "hwtirHtyOc5C"
      }
    },
    {
      "cell_type": "markdown",
      "source": [
        "***10. What are some alternatives to Logistic Regression for classification tasks?***\n",
        "\n",
        "Decision Trees\n",
        "\n",
        "Random Forest\n",
        "\n",
        "Support Vector Machines (SVM)\n",
        "\n",
        "Naive Bayes\n",
        "\n",
        "Neural Networks"
      ],
      "metadata": {
        "id": "ZUA9l25ROkaS"
      }
    },
    {
      "cell_type": "markdown",
      "source": [
        "***11. What are Classification Evaluation Metrics?***\n",
        "\n",
        "Accuracy\n",
        "\n",
        "Precision, Recall, F1-score\n",
        "\n",
        "ROC-AUC Curve\n",
        "\n",
        "Confusion Matrix"
      ],
      "metadata": {
        "id": "pTh463--Otmh"
      }
    },
    {
      "cell_type": "markdown",
      "source": [
        "***12. How does class imbalance affect Logistic Regression?***\n",
        "\n",
        "It biases predictions toward the majority class.\n",
        "\n",
        "Solutions:\n",
        "\n",
        "Resampling techniques (oversampling minority or undersampling majority class).\n",
        "Using weighted loss functions."
      ],
      "metadata": {
        "id": "5aB0GpDsO9UB"
      }
    },
    {
      "cell_type": "markdown",
      "source": [
        "***13. What is Hyperparameter Tuning in Logistic Regression?***\n",
        "\n",
        "Adjusting parameters like λ (regularization strength) and solver methods to optimize performance.\n",
        "\n",
        "Methods: Grid Search, Random Search, Bayesian Optimization."
      ],
      "metadata": {
        "id": "6G0UE71ZPEgW"
      }
    },
    {
      "cell_type": "markdown",
      "source": [
        "***14. What are different solvers in Logistic Regression? Which one should be used?***\n",
        "\n",
        "liblinear → Works well for small datasets, supports L1 & L2.\n",
        "\n",
        "lbfgs → Suitable for large datasets, supports L2.\n",
        "\n",
        "saga → Supports both L1 & L2, recommended for large datasets.\n",
        "\n",
        "newton-cg → Works well for multiclass problems with L2 regularization.\n"
      ],
      "metadata": {
        "id": "U14dxNelPK8_"
      }
    },
    {
      "cell_type": "markdown",
      "source": [
        "***15. How is Logistic Regression extended for multiclass classification?***\n",
        "\n",
        "One-vs-Rest (OvR): Fits one classifier per class.\n",
        "\n",
        "Softmax Regression (Multinomial Logistic Regression): Computes probabilities for multiple classes simultaneously."
      ],
      "metadata": {
        "id": "On6Tz2ndPWkh"
      }
    },
    {
      "cell_type": "markdown",
      "source": [
        "***16. What are the advantages and disadvantages of Logistic Regression?***\n",
        "\n",
        "**Advantages:**\n",
        "\n",
        "Simple, interpretable, and fast.\n",
        "\n",
        "Works well when data is linearly separable.\n",
        "\n",
        "**Disadvantages:**\n",
        "\n",
        "Assumes linear decision boundary.\n",
        "\n",
        "Not robust to outliers or high-dimensional data."
      ],
      "metadata": {
        "id": "HNHTHGjJPqOF"
      }
    },
    {
      "cell_type": "markdown",
      "source": [
        "***17. What are some use cases of Logistic Regression?***\n",
        "\n",
        "Spam detection\n",
        "\n",
        "Credit risk analysis\n",
        "\n",
        "Medical diagnosis (disease prediction)\n",
        "\n",
        "Customer churn prediction"
      ],
      "metadata": {
        "id": "5ALD5VESP6v2"
      }
    },
    {
      "cell_type": "markdown",
      "source": [
        "***18. What is the difference between Softmax Regression and Logistic Regression?***\n",
        "\n",
        "Logistic Regression: Used for binary classification.\n",
        "\n",
        "Softmax Regression: Extends Logistic Regression to multiclass problems by computing probabilities for multiple classes."
      ],
      "metadata": {
        "id": "7o5MSUIDQFIS"
      }
    },
    {
      "cell_type": "markdown",
      "source": [
        "***19. How do we choose between One-vs-Rest (OvR) and Softmax for multiclass classification?***\n",
        "\n",
        "OvR: Works well when there are many classes and computation needs to be efficient.\n",
        "\n",
        "Softmax: Preferred when classes are mutually exclusive and probabilities must sum to 1."
      ],
      "metadata": {
        "id": "gbqcw9g0QMxJ"
      }
    },
    {
      "cell_type": "markdown",
      "source": [
        "***20. How do we interpret coefficients in Logistic Regression?***\n",
        "\n",
        "Coefficients represent the log-odds change for a unit increase in the predictor.\n",
        "\n",
        "Exponentiating the coefficient gives the odds ratio, indicating how much more (or less) likely the outcome is."
      ],
      "metadata": {
        "id": "IWu9ugVAQaip"
      }
    },
    {
      "cell_type": "markdown",
      "source": [],
      "metadata": {
        "id": "NyMXSNIdQf0c"
      }
    }
  ]
}