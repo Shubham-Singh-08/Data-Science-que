{
  "nbformat": 4,
  "nbformat_minor": 0,
  "metadata": {
    "colab": {
      "provenance": []
    },
    "kernelspec": {
      "name": "python3",
      "display_name": "Python 3"
    },
    "language_info": {
      "name": "python"
    }
  },
  "cells": [
    {
      "cell_type": "markdown",
      "source": [
        "***Q1. What are the five key concepts of Object-Oriented Programming (OOP)?***"
      ],
      "metadata": {
        "id": "lduIOuzsbx3z"
      }
    },
    {
      "cell_type": "markdown",
      "source": [
        "1. Encapsulation: Bundling data (attributes) and methods (functions) together within a class and restricting direct access to some components.\n",
        "\n",
        "2. Abstraction: Hiding implementation details and exposing only the necessary functionality.\n",
        "\n",
        "3. Inheritance: Allowing a class to inherit attributes and methods from another class, promoting code reuse.\n",
        "\n",
        "4. Polymorphism: Allowing methods in different classes to be used interchangeably if they share the same name or signature.\n",
        "\n",
        "5. Message Passing: Objects communicate with each other using methods or functions.\n"
      ],
      "metadata": {
        "id": "6nHCP2j2b3eS"
      }
    },
    {
      "cell_type": "markdown",
      "source": [
        "***Q2. Write a Python class for a Car with attributes for make, model and year. Include a method to display the car's information ?***\n",
        "\n",
        "\n"
      ],
      "metadata": {
        "id": "zsD_FPGMcQSC"
      }
    },
    {
      "cell_type": "code",
      "source": [
        "class Car:\n",
        "    def __init__(self, make, model, year):\n",
        "        self.make = make\n",
        "        self.model = model\n",
        "        self.year = year\n",
        "\n",
        "    def display_info(self):\n",
        "        print(f\"Car Information: {self.year} {self.make} {self.model}\")\n",
        "\n",
        "# Example usage:\n",
        "car = Car(\"Toyota\", \"Corolla\", 2021)\n",
        "car.display_info()\n"
      ],
      "metadata": {
        "colab": {
          "base_uri": "https://localhost:8080/"
        },
        "id": "MJIIaeRdcoHL",
        "outputId": "e3d950dc-0f5d-4589-aa38-074db44f23d6"
      },
      "execution_count": 2,
      "outputs": [
        {
          "output_type": "stream",
          "name": "stdout",
          "text": [
            "Car Information: 2021 Toyota Corolla\n"
          ]
        }
      ]
    },
    {
      "cell_type": "markdown",
      "source": [
        "***Q3.  Explain the difference between instance methods and class methods. Provide an example of each ?***"
      ],
      "metadata": {
        "id": "o_rgm34fcl8x"
      }
    },
    {
      "cell_type": "markdown",
      "source": [
        "1. Instance Methods: Operate on an instance of the class and can access instance-specific data via self.\n",
        "\n",
        "2. Class Methods: Operate on the class itself, rather than any instance, and use cls as their first parameter."
      ],
      "metadata": {
        "id": "gakv2f8Jc4VS"
      }
    },
    {
      "cell_type": "code",
      "source": [
        "class Example:\n",
        "    class_variable = 0\n",
        "\n",
        "    def __init__(self):\n",
        "        self.instance_variable = 10\n",
        "\n",
        "    def instance_method(self):\n",
        "        return f\"Instance variable: {self.instance_variable}\"\n",
        "\n",
        "    @classmethod\n",
        "    def class_method(cls):\n",
        "        return f\"Class variable: {cls.class_variable}\"\n",
        "\n",
        "# Usage:\n",
        "obj = Example()\n",
        "print(obj.instance_method())  # Access instance variable\n",
        "print(Example.class_method())  # Access class variable\n"
      ],
      "metadata": {
        "colab": {
          "base_uri": "https://localhost:8080/"
        },
        "id": "LCJPxUKGc7mi",
        "outputId": "b3d9c991-c1a5-4617-b875-e2f2c1a2829a"
      },
      "execution_count": 3,
      "outputs": [
        {
          "output_type": "stream",
          "name": "stdout",
          "text": [
            "Instance variable: 10\n",
            "Class variable: 0\n"
          ]
        }
      ]
    },
    {
      "cell_type": "markdown",
      "source": [
        "***Q4. How does Python implement method overloading? Give an example ?***"
      ],
      "metadata": {
        "id": "_Lf5w4SQc-ar"
      }
    },
    {
      "cell_type": "markdown",
      "source": [
        "Python does not support traditional method overloading but achieves similar functionality using default arguments."
      ],
      "metadata": {
        "id": "SnhCqgcJdDba"
      }
    },
    {
      "cell_type": "code",
      "source": [
        "class OverloadDemo:\n",
        "    def greet(self, name=None):\n",
        "        if name:\n",
        "            print(f\"Hello, {name}!\")\n",
        "        else:\n",
        "            print(\"Hello!\")\n",
        "\n",
        "# Usage:\n",
        "obj = OverloadDemo()\n",
        "obj.greet()       # Output: Hello!\n",
        "obj.greet(\"John\") # Output: Hello, John!\n"
      ],
      "metadata": {
        "colab": {
          "base_uri": "https://localhost:8080/"
        },
        "id": "U86_aXXNdF6R",
        "outputId": "5b06f8ba-dc74-4290-fea0-b53fd278de83"
      },
      "execution_count": 4,
      "outputs": [
        {
          "output_type": "stream",
          "name": "stdout",
          "text": [
            "Hello!\n",
            "Hello, John!\n"
          ]
        }
      ]
    },
    {
      "cell_type": "markdown",
      "source": [
        "***Q5. What are the three types of access modifiers in Python? How are they denoted?***"
      ],
      "metadata": {
        "id": "3Ssmw0jOdLip"
      }
    },
    {
      "cell_type": "markdown",
      "source": [
        "1. Public: Accessible everywhere (default).\n",
        "\n",
        "Denoted by: self.attribute\n",
        "\n",
        "2. Protected: Accessible within the class and its subclasses.\n",
        "\n",
        "Denoted by: _self.attribute\n",
        "\n",
        "3. Private: Accessible only within the class.\n",
        "\n",
        "Denoted by: __self.attribute\n"
      ],
      "metadata": {
        "id": "7-E7D6ZXdO35"
      }
    },
    {
      "cell_type": "markdown",
      "source": [
        "***Q6. Describe the five types of inheritance in Python. Provide a simple example of multiple inheritance.***"
      ],
      "metadata": {
        "id": "7s15Z1cede_y"
      }
    },
    {
      "cell_type": "markdown",
      "source": [
        "1. Single Inheritance: One parent, one child.\n",
        "\n",
        "2. Multiple Inheritance: Multiple parents, one child.\n",
        "\n",
        "3. Multilevel Inheritance: Chain of inheritance.\n",
        "\n",
        "4. Hierarchical Inheritance: One parent, multiple children.\n",
        "\n",
        "5. Hybrid Inheritance: Combination of multiple types."
      ],
      "metadata": {
        "id": "ht4fZ2Ardk7y"
      }
    },
    {
      "cell_type": "code",
      "source": [
        "class A:\n",
        "    def method_a(self):\n",
        "        print(\"Method from class A\")\n",
        "\n",
        "class B:\n",
        "    def method_b(self):\n",
        "        print(\"Method from class B\")\n",
        "\n",
        "class C(A, B):\n",
        "    pass\n",
        "\n",
        "obj = C()\n",
        "obj.method_a()\n",
        "obj.method_b()\n"
      ],
      "metadata": {
        "colab": {
          "base_uri": "https://localhost:8080/"
        },
        "id": "VaeTUeuHdWlZ",
        "outputId": "649613c4-db05-4f52-c37e-c9f9e17a0aa6"
      },
      "execution_count": 5,
      "outputs": [
        {
          "output_type": "stream",
          "name": "stdout",
          "text": [
            "Method from class A\n",
            "Method from class B\n"
          ]
        }
      ]
    },
    {
      "cell_type": "markdown",
      "source": [
        "***Q.7 What is the Method Resolution Order (MRO) in Python? How can you retrieve it programmatically?***\n",
        "\n",
        "\n"
      ],
      "metadata": {
        "id": "UPTrQcmodyUq"
      }
    },
    {
      "cell_type": "markdown",
      "source": [
        "MRO is the order in which Python looks for methods in a hierarchy of classes. It uses the C3 Linearization algorithm.\n",
        "\n",
        "Retrieve MRO programmatically:"
      ],
      "metadata": {
        "id": "Eg3p-vukd4ja"
      }
    },
    {
      "cell_type": "code",
      "source": [
        "print(C.__mro__)\n"
      ],
      "metadata": {
        "colab": {
          "base_uri": "https://localhost:8080/"
        },
        "id": "AKAKdogbd0pK",
        "outputId": "002acfa1-6898-469f-f2c4-4f16b330c1a4"
      },
      "execution_count": 6,
      "outputs": [
        {
          "output_type": "stream",
          "name": "stdout",
          "text": [
            "(<class '__main__.C'>, <class '__main__.A'>, <class '__main__.B'>, <class 'object'>)\n"
          ]
        }
      ]
    },
    {
      "cell_type": "markdown",
      "source": [
        " ***Q8. Create an abstract base class `Shape` with an abstract method `area()`. Then create two subclasses `Circle` and `Rectangle` that implement the `area()` method ?***"
      ],
      "metadata": {
        "id": "wZyKMNQpeBVi"
      }
    },
    {
      "cell_type": "code",
      "source": [
        "from abc import ABC, abstractmethod\n",
        "\n",
        "class Shape(ABC):\n",
        "    @abstractmethod\n",
        "    def area(self):\n",
        "        pass\n",
        "\n",
        "class Circle(Shape):\n",
        "    def __init__(self, radius):\n",
        "        self.radius = radius\n",
        "\n",
        "    def area(self):\n",
        "        return 3.14 * self.radius ** 2\n",
        "\n",
        "class Rectangle(Shape):\n",
        "    def __init__(self, width, height):\n",
        "        self.width = width\n",
        "        self.height = height\n",
        "\n",
        "    def area(self):\n",
        "        return self.width * self.height\n"
      ],
      "metadata": {
        "id": "ahR6ZXtReJGS"
      },
      "execution_count": 7,
      "outputs": []
    },
    {
      "cell_type": "markdown",
      "source": [
        "***Q9. Demonstrate polymorphism by creating a function that can work with different shape objects to calculate and print their areas ?***\n",
        "\n",
        "\n"
      ],
      "metadata": {
        "id": "Wih288EReUCk"
      }
    },
    {
      "cell_type": "code",
      "source": [
        "def print_area(shape):\n",
        "    print(f\"Area: {shape.area()}\")\n",
        "\n",
        "circle = Circle(5)\n",
        "rectangle = Rectangle(4, 6)\n",
        "\n",
        "print_area(circle)     # Output: Area of Circle\n",
        "print_area(rectangle)  # Output: Area of Rectangle\n"
      ],
      "metadata": {
        "colab": {
          "base_uri": "https://localhost:8080/"
        },
        "id": "UH7Z31FLedX6",
        "outputId": "f75d1ec0-5585-4950-f160-4ae93787736d"
      },
      "execution_count": 8,
      "outputs": [
        {
          "output_type": "stream",
          "name": "stdout",
          "text": [
            "Area: 78.5\n",
            "Area: 24\n"
          ]
        }
      ]
    },
    {
      "cell_type": "markdown",
      "source": [
        " ***Q10. Implement encapsulation in a `BankAccount` class with private attributes for `balance` and `account_number`. Include methods for deposit, withdrawal, and balance inquiry ?***"
      ],
      "metadata": {
        "id": "Fz06fQc2eiPa"
      }
    },
    {
      "cell_type": "code",
      "source": [
        "class BankAccount:\n",
        "    def __init__(self, account_number, balance=0):\n",
        "        self.__account_number = account_number\n",
        "        self.__balance = balance\n",
        "\n",
        "    def deposit(self, amount):\n",
        "        if amount > 0:\n",
        "            self.__balance += amount\n",
        "\n",
        "    def withdraw(self, amount):\n",
        "        if 0 < amount <= self.__balance:\n",
        "            self.__balance -= amount\n",
        "\n",
        "    def get_balance(self):\n",
        "        return self.__balance\n"
      ],
      "metadata": {
        "id": "_q7uixxiep5q"
      },
      "execution_count": 9,
      "outputs": []
    },
    {
      "cell_type": "markdown",
      "source": [
        " ***Q11 .Write a class that overrides the `__str__` and `__add__` magic methods. What will these methods allow you to do ?***"
      ],
      "metadata": {
        "id": "dGrn0ENNezhb"
      }
    },
    {
      "cell_type": "code",
      "source": [
        "class Point:\n",
        "    def __init__(self, x, y):\n",
        "        self.x = x\n",
        "        self.y = y\n",
        "\n",
        "    def __str__(self):\n",
        "        return f\"Point({self.x}, {self.y})\"\n",
        "\n",
        "    def __add__(self, other):\n",
        "        return Point(self.x + other.x, self.y + other.y)\n",
        "\n",
        "p1 = Point(1, 2)\n",
        "p2 = Point(3, 4)\n",
        "print(p1 + p2)  # Output: Point(4, 6)\n"
      ],
      "metadata": {
        "colab": {
          "base_uri": "https://localhost:8080/"
        },
        "id": "BjnrGPrxe6ia",
        "outputId": "68957803-9629-486a-8519-0761e5727cf2"
      },
      "execution_count": 10,
      "outputs": [
        {
          "output_type": "stream",
          "name": "stdout",
          "text": [
            "Point(4, 6)\n"
          ]
        }
      ]
    },
    {
      "cell_type": "markdown",
      "source": [
        "***Q12. Create a decorator that measures and prints the execution time of a function ?***\n",
        "\n",
        "\n"
      ],
      "metadata": {
        "id": "al1pTa9je_vS"
      }
    },
    {
      "cell_type": "code",
      "source": [
        "import time\n",
        "\n",
        "def timer(func):\n",
        "    def wrapper(*args, **kwargs):\n",
        "        start = time.time()\n",
        "        result = func(*args, **kwargs)\n",
        "        end = time.time()\n",
        "        print(f\"Execution time: {end - start:.4f} seconds\")\n",
        "        return result\n",
        "    return wrapper\n"
      ],
      "metadata": {
        "id": "LRj9-AczfEX6"
      },
      "execution_count": 11,
      "outputs": []
    },
    {
      "cell_type": "markdown",
      "source": [
        "***Q13. Explain the concept of the Diamond Problem in multiple inheritance. How does Python resolve it ?***"
      ],
      "metadata": {
        "id": "jwAhGCzYfG-K"
      }
    },
    {
      "cell_type": "markdown",
      "source": [
        "Occurs in multiple inheritance when two parent classes of the same child class have a common base class. Python resolves this using MRO."
      ],
      "metadata": {
        "id": "iAmWsW54fNjy"
      }
    },
    {
      "cell_type": "code",
      "source": [
        "class A:\n",
        "    def method(self):\n",
        "        print(\"A method\")\n",
        "\n",
        "class B(A):\n",
        "    def method(self):\n",
        "        print(\"B method\")\n",
        "\n",
        "class C(A):\n",
        "    def method(self):\n",
        "        print(\"C method\")\n",
        "\n",
        "class D(B, C):\n",
        "    pass\n",
        "\n",
        "d = D()\n",
        "d.method()  # Resolves using MRO\n"
      ],
      "metadata": {
        "colab": {
          "base_uri": "https://localhost:8080/"
        },
        "id": "EV-WGbxxfQry",
        "outputId": "aae1ee8b-538c-4edc-d34b-333517bfede3"
      },
      "execution_count": 12,
      "outputs": [
        {
          "output_type": "stream",
          "name": "stdout",
          "text": [
            "B method\n"
          ]
        }
      ]
    },
    {
      "cell_type": "markdown",
      "source": [
        " ***Q14. Write a class method that keeps track of the number of instances created from a class ?***"
      ],
      "metadata": {
        "id": "16TeNcUkfV-R"
      }
    },
    {
      "cell_type": "code",
      "source": [
        "class Tracker:\n",
        "    instance_count = 0\n",
        "\n",
        "    def __init__(self):\n",
        "        Tracker.instance_count += 1\n",
        "\n",
        "    @classmethod\n",
        "    def get_instance_count(cls):\n",
        "        return cls.instance_count\n"
      ],
      "metadata": {
        "id": "i2yP6m3efaVK"
      },
      "execution_count": 13,
      "outputs": []
    },
    {
      "cell_type": "markdown",
      "source": [
        " ***Q15. Implement a static method in a class that checks if a given year is a leap year ?***"
      ],
      "metadata": {
        "id": "-b73oe93feWC"
      }
    },
    {
      "cell_type": "code",
      "source": [
        "class Year:\n",
        "    @staticmethod\n",
        "    def is_leap_year(year):\n",
        "        return year % 4 == 0 and (year % 100 != 0 or year % 400 == 0)\n"
      ],
      "metadata": {
        "id": "3t0Llm0kfh3y"
      },
      "execution_count": 14,
      "outputs": []
    }
  ]
}