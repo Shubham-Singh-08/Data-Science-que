{
  "nbformat": 4,
  "nbformat_minor": 0,
  "metadata": {
    "colab": {
      "provenance": []
    },
    "kernelspec": {
      "name": "python3",
      "display_name": "Python 3"
    },
    "language_info": {
      "name": "python"
    }
  },
  "cells": [
    {
      "cell_type": "markdown",
      "source": [
        "1. Write a code to reverse a string"
      ],
      "metadata": {
        "id": "7abjKjDv1VgO"
      }
    },
    {
      "cell_type": "code",
      "source": [
        "def reverse_string(s):\n",
        "    return s[::-1]\n",
        "\n",
        "print(reverse_string(\"hello\"))  # Output: \"olleh\"\n"
      ],
      "metadata": {
        "colab": {
          "base_uri": "https://localhost:8080/"
        },
        "id": "ugBduBQd1c41",
        "outputId": "1366ca97-32d7-4e81-8466-46431c3c4598"
      },
      "execution_count": 1,
      "outputs": [
        {
          "output_type": "stream",
          "name": "stdout",
          "text": [
            "olleh\n"
          ]
        }
      ]
    },
    {
      "cell_type": "markdown",
      "source": [
        "2. Write a code to count the number of vowels in a string"
      ],
      "metadata": {
        "id": "wJn4UzWZ1U39"
      }
    },
    {
      "cell_type": "code",
      "source": [
        "def count_vowels(s):\n",
        "    vowels = \"aeiouAEIOU\"\n",
        "    return sum(1 for char in s if char in vowels)\n",
        "\n",
        "print(count_vowels(\"Hello World\"))  # Output: 3\n"
      ],
      "metadata": {
        "colab": {
          "base_uri": "https://localhost:8080/"
        },
        "id": "x7C68wuE1lcN",
        "outputId": "e4c7732c-f554-4753-bfd3-24d6673e0331"
      },
      "execution_count": 2,
      "outputs": [
        {
          "output_type": "stream",
          "name": "stdout",
          "text": [
            "3\n"
          ]
        }
      ]
    },
    {
      "cell_type": "markdown",
      "source": [
        "3. Write a code to check if a given string is a palindrome or not"
      ],
      "metadata": {
        "id": "BWVxqLbP1oUW"
      }
    },
    {
      "cell_type": "code",
      "source": [
        "def is_palindrome(s):\n",
        "    return s == s[::-1]\n",
        "\n",
        "print(is_palindrome(\"madam\"))  # Output: True\n"
      ],
      "metadata": {
        "colab": {
          "base_uri": "https://localhost:8080/"
        },
        "id": "KNojQpGY1stF",
        "outputId": "3bbc4f07-b110-44df-fac0-72181c7acc26"
      },
      "execution_count": 3,
      "outputs": [
        {
          "output_type": "stream",
          "name": "stdout",
          "text": [
            "True\n"
          ]
        }
      ]
    },
    {
      "cell_type": "markdown",
      "source": [
        "4. Write a code to check if two given strings are anagrams of each other"
      ],
      "metadata": {
        "id": "6AfRS1JH1wsU"
      }
    },
    {
      "cell_type": "code",
      "source": [
        "def are_anagrams(s1, s2):\n",
        "    return sorted(s1) == sorted(s2)\n",
        "\n",
        "print(are_anagrams(\"listen\", \"silent\"))  # Output: True\n"
      ],
      "metadata": {
        "colab": {
          "base_uri": "https://localhost:8080/"
        },
        "id": "doWoLWwm1wbe",
        "outputId": "40b53845-d552-42c5-e950-a76a3475e182"
      },
      "execution_count": 4,
      "outputs": [
        {
          "output_type": "stream",
          "name": "stdout",
          "text": [
            "True\n"
          ]
        }
      ]
    },
    {
      "cell_type": "markdown",
      "source": [
        "5. Write a code to find all occurrences of a given substring within another string"
      ],
      "metadata": {
        "id": "oAKz55pv102m"
      }
    },
    {
      "cell_type": "code",
      "source": [
        "def find_occurrences(text, sub):\n",
        "    return [i for i in range(len(text)) if text.startswith(sub, i)]\n",
        "\n",
        "print(find_occurrences(\"banana\", \"ana\"))  # Output: [1, 3]\n"
      ],
      "metadata": {
        "colab": {
          "base_uri": "https://localhost:8080/"
        },
        "id": "LyEh7ih211UV",
        "outputId": "4f74d61d-e010-4fbd-db4b-f3285e1cb8ba"
      },
      "execution_count": 5,
      "outputs": [
        {
          "output_type": "stream",
          "name": "stdout",
          "text": [
            "[1, 3]\n"
          ]
        }
      ]
    },
    {
      "cell_type": "markdown",
      "source": [
        "6. Write a code to perform basic string compression using the counts of repeated characters"
      ],
      "metadata": {
        "id": "i5YXPGIo16Fk"
      }
    },
    {
      "cell_type": "code",
      "source": [
        "def compress_string(s):\n",
        "    result = \"\"\n",
        "    count = 1\n",
        "    for i in range(1, len(s)):\n",
        "        if s[i] == s[i-1]:\n",
        "            count += 1\n",
        "        else:\n",
        "            result += s[i-1] + str(count)\n",
        "            count = 1\n",
        "    result += s[-1] + str(count)\n",
        "    return result\n",
        "\n",
        "print(compress_string(\"aaabbccc\"))  # Output: a3b2c3\n"
      ],
      "metadata": {
        "colab": {
          "base_uri": "https://localhost:8080/"
        },
        "id": "o2k_EG2S18ad",
        "outputId": "476b0c73-cd4b-482e-8019-d382a7d10c71"
      },
      "execution_count": 6,
      "outputs": [
        {
          "output_type": "stream",
          "name": "stdout",
          "text": [
            "a3b2c3\n"
          ]
        }
      ]
    },
    {
      "cell_type": "markdown",
      "source": [
        "7. Write a code to determine if a string has all unique characters"
      ],
      "metadata": {
        "id": "Fi3xdwzP2APN"
      }
    },
    {
      "cell_type": "code",
      "source": [
        "def has_unique_chars(s):\n",
        "    return len(set(s)) == len(s)\n",
        "\n",
        "print(has_unique_chars(\"abcde\"))  # Output: True\n"
      ],
      "metadata": {
        "colab": {
          "base_uri": "https://localhost:8080/"
        },
        "id": "RdX3T4V32ACm",
        "outputId": "579fa3cb-9a4e-45d5-8890-6d82e2e37a6f"
      },
      "execution_count": 7,
      "outputs": [
        {
          "output_type": "stream",
          "name": "stdout",
          "text": [
            "True\n"
          ]
        }
      ]
    },
    {
      "cell_type": "markdown",
      "source": [
        "8. Write a code to convert a given string to uppercase or lowercase"
      ],
      "metadata": {
        "id": "6SLGB6Ad2D9N"
      }
    },
    {
      "cell_type": "code",
      "source": [
        "s = \"Hello\"\n",
        "print(s.upper())  # Output: HELLO\n",
        "print(s.lower())  # Output: hello\n"
      ],
      "metadata": {
        "colab": {
          "base_uri": "https://localhost:8080/"
        },
        "id": "IgLf358s2FVm",
        "outputId": "066b265a-dc47-4d30-9758-3df2735ab762"
      },
      "execution_count": 8,
      "outputs": [
        {
          "output_type": "stream",
          "name": "stdout",
          "text": [
            "HELLO\n",
            "hello\n"
          ]
        }
      ]
    },
    {
      "cell_type": "markdown",
      "source": [
        "9. Write a code to count the number of words in a string"
      ],
      "metadata": {
        "id": "irl09mqo2IVd"
      }
    },
    {
      "cell_type": "code",
      "source": [
        "def count_words(s):\n",
        "    return len(s.split())\n",
        "\n",
        "print(count_words(\"Hello world from Python\"))  # Output: 4\n"
      ],
      "metadata": {
        "colab": {
          "base_uri": "https://localhost:8080/"
        },
        "id": "YAHuvUnW2I39",
        "outputId": "a2ee1349-7b5b-4047-dc08-7187a5cf0f74"
      },
      "execution_count": 9,
      "outputs": [
        {
          "output_type": "stream",
          "name": "stdout",
          "text": [
            "4\n"
          ]
        }
      ]
    },
    {
      "cell_type": "markdown",
      "source": [
        "10. Write a code to concatenate two strings without using the + operator"
      ],
      "metadata": {
        "id": "qdTB852d2NRt"
      }
    },
    {
      "cell_type": "code",
      "source": [
        "def concatenate(s1, s2):\n",
        "    return \"{}{}\".format(s1, s2)\n",
        "\n",
        "print(concatenate(\"Hello\", \"World\"))  # Output: HelloWorld\n"
      ],
      "metadata": {
        "colab": {
          "base_uri": "https://localhost:8080/"
        },
        "id": "5pdYq12G2Nsc",
        "outputId": "b2700d82-7162-4444-a964-a5330c5deb35"
      },
      "execution_count": 10,
      "outputs": [
        {
          "output_type": "stream",
          "name": "stdout",
          "text": [
            "HelloWorld\n"
          ]
        }
      ]
    },
    {
      "cell_type": "markdown",
      "source": [
        "11. Write a code to remove all occurrences of a specific element from a list"
      ],
      "metadata": {
        "id": "WxC1H8ET2RY1"
      }
    },
    {
      "cell_type": "code",
      "source": [
        "def remove_occurrences(lst, elem):\n",
        "    return [x for x in lst if x != elem]\n",
        "\n",
        "print(remove_occurrences([1, 2, 3, 2, 4], 2))  # Output: [1, 3, 4]\n"
      ],
      "metadata": {
        "colab": {
          "base_uri": "https://localhost:8080/"
        },
        "id": "NLrd1eV42SAl",
        "outputId": "01fb3f55-6464-4f05-8182-966c6c5a6254"
      },
      "execution_count": 11,
      "outputs": [
        {
          "output_type": "stream",
          "name": "stdout",
          "text": [
            "[1, 3, 4]\n"
          ]
        }
      ]
    },
    {
      "cell_type": "markdown",
      "source": [
        "12. Implement a code to find the second largest number in a given list of integers"
      ],
      "metadata": {
        "id": "BzeYfRfl2T9M"
      }
    },
    {
      "cell_type": "code",
      "source": [
        "def second_largest(lst):\n",
        "    unique = list(set(lst))\n",
        "    unique.sort()\n",
        "    return unique[-2]\n",
        "\n",
        "print(second_largest([1, 3, 4, 4, 2]))  # Output: 3\n"
      ],
      "metadata": {
        "colab": {
          "base_uri": "https://localhost:8080/"
        },
        "id": "hBeYItUj2V6U",
        "outputId": "d159b6fa-f71e-4195-c6a8-a220aa33441c"
      },
      "execution_count": 12,
      "outputs": [
        {
          "output_type": "stream",
          "name": "stdout",
          "text": [
            "3\n"
          ]
        }
      ]
    },
    {
      "cell_type": "markdown",
      "source": [
        "13. Create a code to count the occurrences of each element in a list and return a dictionary"
      ],
      "metadata": {
        "id": "zg2W6nnW2XhF"
      }
    },
    {
      "cell_type": "code",
      "source": [
        "from collections import Counter\n",
        "\n",
        "def count_elements(lst):\n",
        "    return dict(Counter(lst))\n",
        "\n",
        "print(count_elements(['a', 'b', 'a']))  # Output: {'a': 2, 'b': 1}\n"
      ],
      "metadata": {
        "colab": {
          "base_uri": "https://localhost:8080/"
        },
        "id": "PcyRYsna2XSl",
        "outputId": "37408a2a-0596-48ce-85f6-28213e685913"
      },
      "execution_count": 13,
      "outputs": [
        {
          "output_type": "stream",
          "name": "stdout",
          "text": [
            "{'a': 2, 'b': 1}\n"
          ]
        }
      ]
    },
    {
      "cell_type": "markdown",
      "source": [
        "14. Write a code to reverse a list in-place without using any built-in reverse functions"
      ],
      "metadata": {
        "id": "FTNQMMsk2dPl"
      }
    },
    {
      "cell_type": "code",
      "source": [
        "def reverse_list(lst):\n",
        "    for i in range(len(lst)//2):\n",
        "        lst[i], lst[-1-i] = lst[-1-i], lst[i]\n",
        "    return lst\n",
        "\n",
        "print(reverse_list([1, 2, 3]))  # Output: [3, 2, 1]\n"
      ],
      "metadata": {
        "colab": {
          "base_uri": "https://localhost:8080/"
        },
        "id": "IaL2c4YB2evN",
        "outputId": "abbebf56-ba40-43be-ba27-52591c984660"
      },
      "execution_count": 14,
      "outputs": [
        {
          "output_type": "stream",
          "name": "stdout",
          "text": [
            "[3, 2, 1]\n"
          ]
        }
      ]
    },
    {
      "cell_type": "markdown",
      "source": [
        "15. Implement a code to find and remove duplicates from a list while preserving order"
      ],
      "metadata": {
        "id": "OTEs8dmq2kYk"
      }
    },
    {
      "cell_type": "code",
      "source": [
        "def remove_duplicates(lst):\n",
        "    seen = set()\n",
        "    result = []\n",
        "    for item in lst:\n",
        "        if item not in seen:\n",
        "            seen.add(item)\n",
        "            result.append(item)\n",
        "    return result\n",
        "\n",
        "print(remove_duplicates([1, 2, 2, 3, 1]))  # Output: [1, 2, 3]\n"
      ],
      "metadata": {
        "colab": {
          "base_uri": "https://localhost:8080/"
        },
        "id": "ttLQEexZ2lxd",
        "outputId": "1a111df0-72d5-43c3-a657-3e0e85c7088f"
      },
      "execution_count": 15,
      "outputs": [
        {
          "output_type": "stream",
          "name": "stdout",
          "text": [
            "[1, 2, 3]\n"
          ]
        }
      ]
    },
    {
      "cell_type": "markdown",
      "source": [
        "16. Create a code to check if a given list is sorted (ascending/descending)"
      ],
      "metadata": {
        "id": "NGTMT86S2n9V"
      }
    },
    {
      "cell_type": "code",
      "source": [
        "def is_sorted(lst):\n",
        "    return lst == sorted(lst) or lst == sorted(lst, reverse=True)\n",
        "\n",
        "print(is_sorted([1, 2, 3]))  # Output: True\n"
      ],
      "metadata": {
        "colab": {
          "base_uri": "https://localhost:8080/"
        },
        "id": "-t4n7fQl2oZd",
        "outputId": "c30d6ead-63e3-4658-a69c-5957af1b76b5"
      },
      "execution_count": 16,
      "outputs": [
        {
          "output_type": "stream",
          "name": "stdout",
          "text": [
            "True\n"
          ]
        }
      ]
    },
    {
      "cell_type": "markdown",
      "source": [
        "17. Write a code to merge two sorted lists into a single sorted list"
      ],
      "metadata": {
        "id": "ZPJcaPkO2qPV"
      }
    },
    {
      "cell_type": "code",
      "source": [
        "def merge_sorted(a, b):\n",
        "    return sorted(a + b)\n",
        "\n",
        "print(merge_sorted([1, 3], [2, 4]))  # Output: [1, 2, 3, 4]\n"
      ],
      "metadata": {
        "colab": {
          "base_uri": "https://localhost:8080/"
        },
        "id": "ZM1B-wTL2tEe",
        "outputId": "9126116f-f9b5-400d-b8ba-5623351d75f0"
      },
      "execution_count": 17,
      "outputs": [
        {
          "output_type": "stream",
          "name": "stdout",
          "text": [
            "[1, 2, 3, 4]\n"
          ]
        }
      ]
    },
    {
      "cell_type": "markdown",
      "source": [
        "18. Implement a code to find the intersection of two given lists"
      ],
      "metadata": {
        "id": "ca5DALoh2u99"
      }
    },
    {
      "cell_type": "code",
      "source": [
        "def list_intersection(a, b):\n",
        "    return list(set(a) & set(b))\n",
        "\n",
        "print(list_intersection([1, 2, 3], [2, 3, 4]))  # Output: [2, 3]\n"
      ],
      "metadata": {
        "colab": {
          "base_uri": "https://localhost:8080/"
        },
        "id": "yI4IAsFt2vdU",
        "outputId": "53bd1ec2-e258-48ea-e035-e16b41ce943b"
      },
      "execution_count": 18,
      "outputs": [
        {
          "output_type": "stream",
          "name": "stdout",
          "text": [
            "[2, 3]\n"
          ]
        }
      ]
    },
    {
      "cell_type": "markdown",
      "source": [
        "19. Create a code to find the union of two lists without duplicates"
      ],
      "metadata": {
        "id": "ok3Km-032xyd"
      }
    },
    {
      "cell_type": "code",
      "source": [
        "def list_union(a, b):\n",
        "    return list(set(a) | set(b))\n",
        "\n",
        "print(list_union([1, 2], [2, 3]))  # Output: [1, 2, 3]\n"
      ],
      "metadata": {
        "colab": {
          "base_uri": "https://localhost:8080/"
        },
        "id": "C0TZcvVc2yPV",
        "outputId": "bb161e67-313e-4462-dd12-4a40244b3c11"
      },
      "execution_count": 19,
      "outputs": [
        {
          "output_type": "stream",
          "name": "stdout",
          "text": [
            "[1, 2, 3]\n"
          ]
        }
      ]
    },
    {
      "cell_type": "markdown",
      "source": [
        "20. Write a code to shuffle a given list randomly without using built-in shuffle"
      ],
      "metadata": {
        "id": "zqpc8AGB2zcd"
      }
    },
    {
      "cell_type": "code",
      "source": [
        "import random\n",
        "\n",
        "def shuffle_list(lst):\n",
        "    for i in range(len(lst)-1, 0, -1):\n",
        "        j = random.randint(0, i)\n",
        "        lst[i], lst[j] = lst[j], lst[i]\n",
        "    return lst\n",
        "\n",
        "print(shuffle_list([1, 2, 3, 4]))\n"
      ],
      "metadata": {
        "colab": {
          "base_uri": "https://localhost:8080/"
        },
        "id": "oMxx0vA821Yk",
        "outputId": "f3faf29b-281e-4a3c-f2de-fd5f99ebac61"
      },
      "execution_count": 20,
      "outputs": [
        {
          "output_type": "stream",
          "name": "stdout",
          "text": [
            "[3, 2, 4, 1]\n"
          ]
        }
      ]
    },
    {
      "cell_type": "markdown",
      "source": [
        "21. Write a code that takes two tuples as input and returns a new tuple containing elements common to both"
      ],
      "metadata": {
        "id": "s9lqfewa2480"
      }
    },
    {
      "cell_type": "code",
      "source": [
        "def common_elements(t1, t2):\n",
        "    return tuple(set(t1) & set(t2))\n",
        "\n",
        "print(common_elements((1, 2, 3), (2, 3, 4)))  # Output: (2, 3)\n"
      ],
      "metadata": {
        "colab": {
          "base_uri": "https://localhost:8080/"
        },
        "id": "vbmN9-3g25ad",
        "outputId": "29f98602-6879-4800-8c80-5bae06968184"
      },
      "execution_count": 21,
      "outputs": [
        {
          "output_type": "stream",
          "name": "stdout",
          "text": [
            "(2, 3)\n"
          ]
        }
      ]
    },
    {
      "cell_type": "markdown",
      "source": [
        "22. Prompt the user to enter two sets of integers separated by commas. Print their intersection"
      ],
      "metadata": {
        "id": "NBiF8q0028xd"
      }
    },
    {
      "cell_type": "code",
      "source": [
        "s1 = set(map(int, input(\"Enter first set: \").split(',')))\n",
        "s2 = set(map(int, input(\"Enter second set: \").split(',')))\n",
        "print(s1 & s2)\n"
      ],
      "metadata": {
        "colab": {
          "base_uri": "https://localhost:8080/"
        },
        "id": "XqZjCmpy29LE",
        "outputId": "faeb6ffc-2a7d-4cd0-b08c-cf537409e5a5"
      },
      "execution_count": 24,
      "outputs": [
        {
          "output_type": "stream",
          "name": "stdout",
          "text": [
            "Enter first set: 1,2,3,4,5\n",
            "Enter second set: 4,5,6,7,8\n",
            "{4, 5}\n"
          ]
        }
      ]
    },
    {
      "cell_type": "markdown",
      "source": [
        "23. Write a code to concatenate two tuples"
      ],
      "metadata": {
        "id": "9hUqUd882-kt"
      }
    },
    {
      "cell_type": "code",
      "source": [
        "def concatenate_tuples(t1, t2):\n",
        "    return t1 + t2\n",
        "\n",
        "print(concatenate_tuples((1, 2), (3, 4)))  # Output: (1, 2, 3, 4)\n"
      ],
      "metadata": {
        "colab": {
          "base_uri": "https://localhost:8080/"
        },
        "id": "jUDYd0T43PCc",
        "outputId": "05c88a3c-df86-48ab-a8ee-a71c1da2b074"
      },
      "execution_count": 25,
      "outputs": [
        {
          "output_type": "stream",
          "name": "stdout",
          "text": [
            "(1, 2, 3, 4)\n"
          ]
        }
      ]
    },
    {
      "cell_type": "markdown",
      "source": [
        "24. Prompt the user to input two sets of strings, then print elements in the first not in second"
      ],
      "metadata": {
        "id": "Ywd04Bi73WKO"
      }
    },
    {
      "cell_type": "code",
      "source": [
        "s1 = set(input(\"First set: \").split())\n",
        "s2 = set(input(\"Second set: \").split())\n",
        "print(s1 - s2)\n",
        "\n"
      ],
      "metadata": {
        "colab": {
          "base_uri": "https://localhost:8080/"
        },
        "id": "kGhnwLx43WwP",
        "outputId": "1f715f8f-cc02-436f-9672-b9e969a583a8"
      },
      "execution_count": 26,
      "outputs": [
        {
          "output_type": "stream",
          "name": "stdout",
          "text": [
            "First set: 1,2,3,4,5\n",
            "Second set: 4,5,6,7,8\n",
            "{'1,2,3,4,5'}\n"
          ]
        }
      ]
    },
    {
      "cell_type": "markdown",
      "source": [
        "25. Take a tuple and two indices, return a sub-tuple within that range"
      ],
      "metadata": {
        "id": "Z0S297n93ooU"
      }
    },
    {
      "cell_type": "code",
      "source": [
        "def sub_tuple(t, start, end):\n",
        "    return t[start:end]\n",
        "\n",
        "print(sub_tuple((1, 2, 3, 4, 5), 1, 4))  # Output: (2, 3, 4)\n"
      ],
      "metadata": {
        "colab": {
          "base_uri": "https://localhost:8080/"
        },
        "id": "udExmWJj3rSs",
        "outputId": "24fc8408-c2be-4235-8202-7018d09ae7fe"
      },
      "execution_count": 27,
      "outputs": [
        {
          "output_type": "stream",
          "name": "stdout",
          "text": [
            "(2, 3, 4)\n"
          ]
        }
      ]
    },
    {
      "cell_type": "markdown",
      "source": [
        "26. Prompt the user to input two sets of characters, then print their union"
      ],
      "metadata": {
        "id": "86R_UFAE3xK1"
      }
    },
    {
      "cell_type": "code",
      "source": [
        "s1 = set(input(\"Enter characters for Set 1: \"))\n",
        "s2 = set(input(\"Enter characters for Set 2: \"))\n",
        "print(s1 | s2)\n"
      ],
      "metadata": {
        "colab": {
          "base_uri": "https://localhost:8080/"
        },
        "id": "n54NCaJ-32Bl",
        "outputId": "1f26d1ab-0731-4542-dced-095a3860c9da"
      },
      "execution_count": 28,
      "outputs": [
        {
          "output_type": "stream",
          "name": "stdout",
          "text": [
            "Enter characters for Set 1: 1,2,3,4,5\n",
            "Enter characters for Set 2: 4,5,6,7,8\n",
            "{'8', '4', ',', '7', '1', '5', '2', '6', '3'}\n"
          ]
        }
      ]
    },
    {
      "cell_type": "markdown",
      "source": [
        "27. Take a tuple of integers and return max and min using unpacking"
      ],
      "metadata": {
        "id": "yjpatCp231p2"
      }
    },
    {
      "cell_type": "code",
      "source": [
        "def min_max(t):\n",
        "    return min(t), max(t)\n",
        "\n",
        "print(min_max((4, 2, 9)))  # Output: (2, 9)\n"
      ],
      "metadata": {
        "colab": {
          "base_uri": "https://localhost:8080/"
        },
        "id": "IKm_JTn84FNd",
        "outputId": "30d86833-8171-4a7f-d50c-9317664c258e"
      },
      "execution_count": 29,
      "outputs": [
        {
          "output_type": "stream",
          "name": "stdout",
          "text": [
            "(2, 9)\n"
          ]
        }
      ]
    },
    {
      "cell_type": "markdown",
      "source": [
        "28. Define two sets of integers and print union, intersection, and difference"
      ],
      "metadata": {
        "id": "MGmWrBUj4G6H"
      }
    },
    {
      "cell_type": "code",
      "source": [
        "a = {1, 2, 3}\n",
        "b = {2, 3, 4}\n",
        "print(\"Union:\", a | b)\n",
        "print(\"Intersection:\", a & b)\n",
        "print(\"Difference:\", a - b)\n"
      ],
      "metadata": {
        "colab": {
          "base_uri": "https://localhost:8080/"
        },
        "id": "8cMCqWqS4JDs",
        "outputId": "b9dd1fe6-f669-4b30-ce33-a2a63d8b96f7"
      },
      "execution_count": 30,
      "outputs": [
        {
          "output_type": "stream",
          "name": "stdout",
          "text": [
            "Union: {1, 2, 3, 4}\n",
            "Intersection: {2, 3}\n",
            "Difference: {1}\n"
          ]
        }
      ]
    },
    {
      "cell_type": "markdown",
      "source": [
        "29. Count occurrences of an element in a tuple"
      ],
      "metadata": {
        "id": "bnRr1Ix-4MNM"
      }
    },
    {
      "cell_type": "code",
      "source": [
        "def count_element(t, elem):\n",
        "    return t.count(elem)\n",
        "\n",
        "print(count_element((1, 2, 2, 3), 2))  # Output: 2\n"
      ],
      "metadata": {
        "colab": {
          "base_uri": "https://localhost:8080/"
        },
        "id": "dX7QwQfh4OXc",
        "outputId": "dc7149ce-3cc2-46b2-b047-87d2caf0032a"
      },
      "execution_count": 31,
      "outputs": [
        {
          "output_type": "stream",
          "name": "stdout",
          "text": [
            "2\n"
          ]
        }
      ]
    },
    {
      "cell_type": "markdown",
      "source": [
        "30. Prompt user to input two sets of strings, then print symmetric difference"
      ],
      "metadata": {
        "id": "5qnXbU8S4Ss1"
      }
    },
    {
      "cell_type": "code",
      "source": [
        "s1 = set(input(\"Enter first set: \").split())\n",
        "s2 = set(input(\"Enter second set: \").split())\n",
        "print(s1 ^ s2)\n"
      ],
      "metadata": {
        "colab": {
          "base_uri": "https://localhost:8080/"
        },
        "id": "HIPsggjF4TRt",
        "outputId": "ed94cb82-2bd2-4348-dffc-fc0ba1642291"
      },
      "execution_count": 32,
      "outputs": [
        {
          "output_type": "stream",
          "name": "stdout",
          "text": [
            "Enter first set: 1,2,3,4,5\n",
            "Enter second set: 4,5,6,7,8\n",
            "{'1,2,3,4,5', '4,5,6,7,8'}\n"
          ]
        }
      ]
    },
    {
      "cell_type": "markdown",
      "source": [
        "31. Return a dictionary with word frequencies from a list of words"
      ],
      "metadata": {
        "id": "NXZ66WUO4duF"
      }
    },
    {
      "cell_type": "code",
      "source": [
        "def word_freq(words):\n",
        "    freq = {}\n",
        "    for word in words:\n",
        "        freq[word] = freq.get(word, 0) + 1\n",
        "    return freq\n",
        "\n",
        "print(word_freq([\"apple\", \"banana\", \"apple\"]))  # Output: {'apple': 2, 'banana': 1}\n"
      ],
      "metadata": {
        "colab": {
          "base_uri": "https://localhost:8080/"
        },
        "id": "5HGSrU974fQ9",
        "outputId": "23796d1b-4134-415a-bb6a-859c116ab0b4"
      },
      "execution_count": 33,
      "outputs": [
        {
          "output_type": "stream",
          "name": "stdout",
          "text": [
            "{'apple': 2, 'banana': 1}\n"
          ]
        }
      ]
    },
    {
      "cell_type": "markdown",
      "source": [
        "32. Merge two dictionaries; add values for common keys"
      ],
      "metadata": {
        "id": "AiJr68ms4iHU"
      }
    },
    {
      "cell_type": "code",
      "source": [
        "def merge_dicts(d1, d2):\n",
        "    result = d1.copy()\n",
        "    for k, v in d2.items():\n",
        "        result[k] = result.get(k, 0) + v\n",
        "    return result\n",
        "\n",
        "print(merge_dicts({'a': 2}, {'a': 3, 'b': 1}))  # Output: {'a': 5, 'b': 1}\n"
      ],
      "metadata": {
        "colab": {
          "base_uri": "https://localhost:8080/"
        },
        "id": "Au-zyxYL4if1",
        "outputId": "bac0826f-e0eb-4bcc-b574-a095de535813"
      },
      "execution_count": 34,
      "outputs": [
        {
          "output_type": "stream",
          "name": "stdout",
          "text": [
            "{'a': 5, 'b': 1}\n"
          ]
        }
      ]
    },
    {
      "cell_type": "markdown",
      "source": [
        "33. Access a value in nested dictionary using a list of keys"
      ],
      "metadata": {
        "id": "NjScsKht4kQV"
      }
    },
    {
      "cell_type": "code",
      "source": [
        "def get_nested_value(d, keys):\n",
        "    for key in keys:\n",
        "        if isinstance(d, dict) and key in d:\n",
        "            d = d[key]\n",
        "        else:\n",
        "            return None\n",
        "    return d\n",
        "\n",
        "data = {'a': {'b': {'c': 5}}}\n",
        "print(get_nested_value(data, ['a', 'b', 'c']))  # Output: 5\n"
      ],
      "metadata": {
        "colab": {
          "base_uri": "https://localhost:8080/"
        },
        "id": "_ylitIWg4mg0",
        "outputId": "1bed7f91-2caa-41bb-b84f-7d44d0878563"
      },
      "execution_count": 35,
      "outputs": [
        {
          "output_type": "stream",
          "name": "stdout",
          "text": [
            "5\n"
          ]
        }
      ]
    },
    {
      "cell_type": "markdown",
      "source": [
        "34. Return a dictionary sorted by values"
      ],
      "metadata": {
        "id": "ByrpDe1x4oMc"
      }
    },
    {
      "cell_type": "code",
      "source": [
        "def sort_dict_by_values(d, reverse=False):\n",
        "    return dict(sorted(d.items(), key=lambda x: x[1], reverse=reverse))\n",
        "\n",
        "print(sort_dict_by_values({'a': 2, 'b': 1}))  # Output: {'b': 1, 'a': 2}\n"
      ],
      "metadata": {
        "colab": {
          "base_uri": "https://localhost:8080/"
        },
        "id": "nZ6GwACz4psd",
        "outputId": "92c116e5-2326-4c04-962a-03709f8aa4a1"
      },
      "execution_count": 36,
      "outputs": [
        {
          "output_type": "stream",
          "name": "stdout",
          "text": [
            "{'b': 1, 'a': 2}\n"
          ]
        }
      ]
    },
    {
      "cell_type": "markdown",
      "source": [
        "35. Invert a dictionary, store multiple keys with same value as list"
      ],
      "metadata": {
        "id": "2zlH637o4rD3"
      }
    },
    {
      "cell_type": "code",
      "source": [
        "def invert_dict(d):\n",
        "    inverted = {}\n",
        "    for k, v in d.items():\n",
        "        inverted.setdefault(v, []).append(k)\n",
        "    return inverted\n",
        "\n",
        "print(invert_dict({'a': 1, 'b': 2, 'c': 1}))  # Output: {1: ['a', 'c'], 2: ['b']}\n"
      ],
      "metadata": {
        "colab": {
          "base_uri": "https://localhost:8080/"
        },
        "id": "Os5-XdX-4so0",
        "outputId": "91a7b00a-d607-418c-b918-9e534ccf67ee"
      },
      "execution_count": 37,
      "outputs": [
        {
          "output_type": "stream",
          "name": "stdout",
          "text": [
            "{1: ['a', 'c'], 2: ['b']}\n"
          ]
        }
      ]
    }
  ]
}