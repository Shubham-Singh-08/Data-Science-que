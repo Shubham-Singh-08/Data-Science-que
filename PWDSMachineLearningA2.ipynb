{
  "nbformat": 4,
  "nbformat_minor": 0,
  "metadata": {
    "colab": {
      "provenance": []
    },
    "kernelspec": {
      "name": "python3",
      "display_name": "Python 3"
    },
    "language_info": {
      "name": "python"
    }
  },
  "cells": [
    {
      "cell_type": "markdown",
      "source": [
        "***1. What is Simple Linear Regression?***\n",
        "\n",
        "Simple Linear Regression is a statistical method used to model the relationship between a dependent variable (Y) and a single independent variable (X). It is represented by the equation:\n",
        "\n",
        "𝑌\n",
        "=\n",
        "𝑚\n",
        "𝑋\n",
        "+\n",
        "𝑐\n",
        "\n",
        "\n",
        "where:\n",
        "\n",
        "Y is the dependent variable,\n",
        "\n",
        "X is the independent variable,\n",
        "\n",
        "m is the slope (coefficient),\n",
        "\n",
        "c is the intercept.\n"
      ],
      "metadata": {
        "id": "o3tbmfjmIPEL"
      }
    },
    {
      "cell_type": "markdown",
      "source": [
        "***2. What are the key assumptions of Simple Linear Regression?***\n",
        "\n",
        "Linearity: The relationship between X and Y is linear.\n",
        "\n",
        "Independence: Observations are independent of each other.\n",
        "\n",
        "Homoscedasticity: Constant variance of residuals.\n",
        "\n",
        "Normality of Residuals: Errors should be normally distributed.\n",
        "\n",
        "No Multicollinearity (Only for Multiple Regression)."
      ],
      "metadata": {
        "id": "-4Elgg32Ikje"
      }
    },
    {
      "cell_type": "markdown",
      "source": [
        "***3. What does the coefficient 𝑚 represent in the equation ***\n",
        "𝑌\n",
        "=\n",
        "𝑚\n",
        "𝑋\n",
        "+\n",
        "𝑐?\n",
        "\n",
        "𝑚\n",
        "represents the slope, indicating the rate of change of\n",
        "𝑌\n",
        "Y for a one-unit increase in\n",
        "𝑋\n",
        "X.\n",
        "\n",
        "Example:\n",
        "If\n",
        "𝑚\n",
        "=\n",
        "2\n",
        ", then for every 1 unit increase in\n",
        "X,\n",
        "Y increases by 2 units."
      ],
      "metadata": {
        "id": "MvfUxV2fIx9U"
      }
    },
    {
      "cell_type": "markdown",
      "source": [
        "***4. What does the intercept c represent in the equation***\n",
        "𝑌\n",
        "=\n",
        "𝑚\n",
        "𝑋+𝑐\n",
        "\n",
        "c is the Y-intercept, representing the value of\n",
        "Y when\n",
        "𝑋\n",
        "=\n",
        "0\n",
        "\n",
        "Example:\n",
        "\n",
        "If\n",
        "𝑐\n",
        "=\n",
        "5\n",
        "c=5, then when\n",
        "𝑋\n",
        "=\n",
        "0\n",
        "X=0,\n",
        "𝑌\n",
        "=\n",
        "5\n",
        "Y=5.\n"
      ],
      "metadata": {
        "id": "epFS-GtTJP87"
      }
    },
    {
      "cell_type": "markdown",
      "source": [
        "***5. How do we calculate the slope m in Simple Linear Regression?***\n",
        "\n",
        "The slope 𝑚 is given by:\n",
        "![image.png](data:image/png;base64,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)\n",
        "\n",
        "where\n",
        "𝑋\n",
        "ˉ\n",
        "and\n",
        "\n",
        "𝑌\n",
        "ˉ\n",
        "  are the means of X and Y."
      ],
      "metadata": {
        "id": "BgjoVJ2JJq5i"
      }
    },
    {
      "cell_type": "markdown",
      "source": [
        "***6. What is the purpose of the least squares method in Simple Linear Regression?***\n",
        "\n",
        "The least squares method minimizes the sum of squared residuals (errors) to find the best-fitting regression line. It ensures the model has the smallest possible error."
      ],
      "metadata": {
        "id": "QDe5PfRMKH4a"
      }
    },
    {
      "cell_type": "markdown",
      "source": [
        "***7. How is the coefficient of determination (R²) interpreted in Simple Linear Regression?***\n",
        "\n",
        "𝑅\n",
        "2\n",
        "measures the proportion of variance in\n",
        "Y explained by\n",
        "X.\n",
        "\n",
        "𝑅\n",
        "2\n",
        "=1: Perfect fit\n",
        "\n",
        "𝑅\n",
        "2\n",
        "=\n",
        "0\n",
        "No relationship Higher\n",
        "\n",
        "𝑅\n",
        "2 means better model performance."
      ],
      "metadata": {
        "id": "mva5F-vpKPXr"
      }
    },
    {
      "cell_type": "markdown",
      "source": [
        "***8. What is Multiple Linear Regression?***\n",
        "\n",
        "It extends Simple Linear Regression by using multiple independent variables:\n",
        "\n",
        "![image.png](data:image/png;base64,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)"
      ],
      "metadata": {
        "id": "gc7OQd-kKira"
      }
    },
    {
      "cell_type": "markdown",
      "source": [
        "***9. What is the main difference between Simple and Multiple Linear Regression?***\n",
        "\n",
        "Simple Regression: One independent variable.\n",
        "\n",
        "Multiple Regression: Two or more independent variables.\n"
      ],
      "metadata": {
        "id": "kSQIYD6TKqZj"
      }
    },
    {
      "cell_type": "markdown",
      "source": [
        "***10. What are the key assumptions of Multiple Linear Regression?***\n",
        "\n",
        "Linearity: Relationship between dependent and independent variables is linear.\n",
        "\n",
        "No Multicollinearity: Independent variables should not be highly correlated.\n",
        "\n",
        "Homoscedasticity: Constant variance of residuals.\n",
        "\n",
        "Normality: Residuals should be normally distributed."
      ],
      "metadata": {
        "id": "D3lU3C9yKu5C"
      }
    },
    {
      "cell_type": "markdown",
      "source": [
        "***11. What is heteroscedasticity, and how does it affect the results of a Multiple Linear Regression model?***\n",
        "\n",
        "Heteroscedasticity occurs when the variance of residuals is not constant, leading to unreliable standard errors and biased significance tests. It can be detected using residual plots.\n",
        "\n"
      ],
      "metadata": {
        "id": "nSp1zOnFK0Pa"
      }
    },
    {
      "cell_type": "markdown",
      "source": [
        "***12. How can you improve a Multiple Linear Regression model with high multicollinearity?***\n",
        "\n",
        "Remove highly correlated variables.\n",
        "\n",
        "Use Principal Component Analysis (PCA).\n",
        "\n",
        "Apply Ridge or Lasso Regression.\n"
      ],
      "metadata": {
        "id": "JJQTLq7yK4xi"
      }
    },
    {
      "cell_type": "markdown",
      "source": [
        "***13. What are some common techniques for transforming categorical variables for use in regression models?***\n",
        "\n",
        "One-Hot Encoding (for nominal data).\n",
        "\n",
        "Label Encoding (for ordinal data)."
      ],
      "metadata": {
        "id": "wgOJBQt-K7K6"
      }
    },
    {
      "cell_type": "markdown",
      "source": [
        "***14. What is the role of interaction terms in Multiple Linear Regression?***\n",
        "\n",
        "Interaction terms capture the combined effect of two independent variables, allowing for non-additive relationships.\n",
        "\n"
      ],
      "metadata": {
        "id": "hvCY5xN0K_yy"
      }
    },
    {
      "cell_type": "markdown",
      "source": [
        "***15. How can the interpretation of intercept differ between Simple and Multiple Linear Regression?***\n",
        "\n",
        "In Simple Regression, the intercept represents\n",
        "Y when\n",
        "X=0.\n",
        "\n",
        "In Multiple Regression, it represents\n",
        "Y when all independent variables are zero, which may not always be meaningful."
      ],
      "metadata": {
        "id": "6HLAWQy_LCMC"
      }
    },
    {
      "cell_type": "markdown",
      "source": [
        "***16. What is the significance of the slope in regression analysis, and how does it affect predictions?***\n",
        "\n",
        "The slope determines how the dependent variable changes with respect to an independent variable. It directly influences model predictions."
      ],
      "metadata": {
        "id": "uom0mMHlLKrr"
      }
    },
    {
      "cell_type": "markdown",
      "source": [
        "***17. How does the intercept in a regression model provide context for the relationship between variables?***\n",
        "\n",
        "The intercept provides a baseline value for\n",
        "Y when all independent variables are zero.\n",
        "\n"
      ],
      "metadata": {
        "id": "x3aA9GYcLOja"
      }
    },
    {
      "cell_type": "markdown",
      "source": [
        "***18. What are the limitations of using R 2 as a sole measure of model performance?***\n",
        "\n",
        "It does not indicate causation.\n",
        "\n",
        "Adding more variables can increase\n",
        "𝑅\n",
        "2 artificially.\n",
        "\n",
        "It does not account for overfitting."
      ],
      "metadata": {
        "id": "bUKYQ0izLTIi"
      }
    },
    {
      "cell_type": "markdown",
      "source": [
        "***19. How would you interpret a large standard error for a regression coefficient?***\n",
        "\n",
        "A large standard error suggests the coefficient estimate is unstable and may not be statistically significant."
      ],
      "metadata": {
        "id": "CgTC9THWLdza"
      }
    },
    {
      "cell_type": "markdown",
      "source": [
        "***20. How can heteroscedasticity be identified in residual plots, and why is it important to address it?***\n",
        "\n",
        "\n",
        "Detected by: Plotting residuals vs. fitted values.\n",
        "\n",
        "Addressed using: Transformations (log, square root), weighted regression."
      ],
      "metadata": {
        "id": "XciFeZC7LgfS"
      }
    },
    {
      "cell_type": "markdown",
      "source": [
        "***21. What does it mean if a Multiple Linear Regression model has a high  𝑅 2 but low adjusted 𝑅 2?***\n",
        "\n",
        "It suggests that some independent variables are not adding value and may be increasing model complexity unnecessarily."
      ],
      "metadata": {
        "id": "WC86t3eaLmki"
      }
    },
    {
      "cell_type": "markdown",
      "source": [
        "***22. Why is it important to scale variables in Multiple Linear Regression?***\n",
        "\n",
        "Scaling ensures that variables with different units do not dominate the regression coefficients, improving model performance."
      ],
      "metadata": {
        "id": "91geFVUSL2La"
      }
    },
    {
      "cell_type": "markdown",
      "source": [
        "***23. What is polynomial regression?***\n",
        "\n",
        "A type of regression where the relationship between\n",
        "X and\n",
        "Y is modeled as an\n",
        "n-degree polynomial:\n",
        "\n",
        "![image.png](data:image/png;base64,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)"
      ],
      "metadata": {
        "id": "ZH-z5ffrL6Da"
      }
    },
    {
      "cell_type": "markdown",
      "source": [
        "***24. How does polynomial regression differ from linear regression?***\n",
        "\n",
        "Linear regression assumes a straight-line relationship, while polynomial regression captures curved relationships."
      ],
      "metadata": {
        "id": "_k2MupTFMCcz"
      }
    },
    {
      "cell_type": "markdown",
      "source": [
        "***25. When is polynomial regression used?***\n",
        "\n",
        "When data shows a non-linear relationship that cannot be captured by a straight line."
      ],
      "metadata": {
        "id": "dgAdNTzvMH06"
      }
    },
    {
      "cell_type": "markdown",
      "source": [
        "***26. What is the general equation for polynomial regression?***\n",
        "\n",
        "![image.png](data:image/png;base64,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)"
      ],
      "metadata": {
        "id": "0AHOkPBiMLQi"
      }
    },
    {
      "cell_type": "markdown",
      "source": [
        "***27. Can polynomial regression be applied to multiple variables?***\n",
        "\n",
        "Yes, it extends to Polynomial Multiple Regression where each independent variable has polynomial terms."
      ],
      "metadata": {
        "id": "0qjsAmphMOc6"
      }
    },
    {
      "cell_type": "markdown",
      "source": [
        "***28. What are the limitations of polynomial regression?***\n",
        "\n",
        "Overfitting for high-degree polynomials.\n",
        "\n",
        "Sensitive to outliers.\n",
        "\n",
        "Requires careful selection of polynomial degree.\n"
      ],
      "metadata": {
        "id": "oQrVNM3hMTcz"
      }
    },
    {
      "cell_type": "markdown",
      "source": [
        "***29. What methods can be used to evaluate model fit when selecting the degree of a polynomial?***\n",
        "\n",
        "Cross-validation\n",
        "\n",
        "Adjusted\n",
        "𝑅\n",
        "2\n",
        "\n",
        "Mean Squared Error (MSE)"
      ],
      "metadata": {
        "id": "ARpREbHbMY1y"
      }
    },
    {
      "cell_type": "markdown",
      "source": [
        "***30. Why is visualization important in polynomial regression?***\n",
        "\n",
        "It helps to determine whether a polynomial curve fits the data better than a straight line."
      ],
      "metadata": {
        "id": "5SAxnaFEMb5j"
      }
    },
    {
      "cell_type": "markdown",
      "source": [
        "***31. How is polynomial regression implemented in Python?***"
      ],
      "metadata": {
        "id": "fLudJinXMioi"
      }
    },
    {
      "cell_type": "code",
      "source": [
        "import numpy as np\n",
        "import matplotlib.pyplot as plt\n",
        "from sklearn.preprocessing import PolynomialFeatures\n",
        "from sklearn.linear_model import LinearRegression\n",
        "\n",
        "# Sample data\n",
        "X = np.array([1, 2, 3, 4, 5]).reshape(-1, 1)\n",
        "Y = np.array([2, 6, 10, 18, 28])\n",
        "\n",
        "# Transform to polynomial features\n",
        "poly = PolynomialFeatures(degree=2)\n",
        "X_poly = poly.fit_transform(X)\n",
        "\n",
        "# Train model\n",
        "model = LinearRegression()\n",
        "model.fit(X_poly, Y)\n",
        "\n",
        "# Predict\n",
        "Y_pred = model.predict(X_poly)\n",
        "\n",
        "# Plot\n",
        "plt.scatter(X, Y, color='red')\n",
        "plt.plot(X, Y_pred, color='blue')\n",
        "plt.show()\n"
      ],
      "metadata": {
        "colab": {
          "base_uri": "https://localhost:8080/",
          "height": 430
        },
        "id": "1cP7kaFBMmGj",
        "outputId": "bd1e0975-a84b-4985-a374-2ad4e063fd92"
      },
      "execution_count": 1,
      "outputs": [
        {
          "output_type": "display_data",
          "data": {
            "text/plain": [
              "<Figure size 640x480 with 1 Axes>"
            ],
            "image/png": "[encoded data removed]"
          },
          "metadata": {}
        }
      ]
    }
  ]
}