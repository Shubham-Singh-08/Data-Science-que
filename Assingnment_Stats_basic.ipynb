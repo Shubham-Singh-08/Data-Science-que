{
  "nbformat": 4,
  "nbformat_minor": 0,
  "metadata": {
    "colab": {
      "provenance": []
    },
    "kernelspec": {
      "name": "python3",
      "display_name": "Python 3"
    },
    "language_info": {
      "name": "python"
    }
  },
  "cells": [
    {
      "cell_type": "markdown",
      "source": [
        "***1. Explain the different types of data (qualitative and quantitative) and provide examples of each. Discuss nominal, ordinal, interval, and ratio scales***"
      ],
      "metadata": {
        "id": "DA9qZAk46bqF"
      }
    },
    {
      "cell_type": "markdown",
      "source": [
        "Qualitative (Categorical) Data: Describes categories or labels.\n",
        "\n",
        "Examples: Colors (red, green), Gender (male, female)\n",
        "\n",
        "Scales:\n",
        "\n",
        "Nominal: No inherent order (e.g., blood type: A, B, AB, O)\n",
        "\n",
        "Ordinal: Has order, but no fixed interval (e.g., movie ratings: good, better, best)\n",
        "\n",
        "Quantitative (Numerical) Data: Represents measurable quantities.\n",
        "\n",
        "Examples: Age, height, weight\n",
        "\n",
        "Scales:\n",
        "\n",
        "Interval: Ordered and has equal intervals, but no true zero (e.g., temperature in Celsius)\n",
        "\n",
        "Ratio: Ordered, equal intervals, and true zero (e.g., weight, height)\n",
        "\n"
      ],
      "metadata": {
        "id": "vDfMb2j96dCE"
      }
    },
    {
      "cell_type": "markdown",
      "source": [
        "***2. What are the measures of central tendency, and when should you use each? Discuss the mean, median, and mode with examples and situations where each is appropriate***"
      ],
      "metadata": {
        "id": "UkOnmpRD6kpL"
      }
    },
    {
      "cell_type": "markdown",
      "source": [
        "Mean: Average (used for normally distributed data)\n",
        "\n",
        "Example: Average test score\n",
        "\n",
        "Median: Middle value (used when data is skewed or has outliers)\n",
        "\n",
        "Example: Median house price\n",
        "\n",
        "Mode: Most frequent value (used for categorical or bimodal data)\n",
        "\n",
        "Example: Most common shoe size\n",
        "\n"
      ],
      "metadata": {
        "id": "zM3ZdCGs6ojU"
      }
    },
    {
      "cell_type": "markdown",
      "source": [
        "***3. Explain the concept of dispersion. How do variance and standard deviation measure the spread of data?***"
      ],
      "metadata": {
        "id": "OE1cYGjC6qdk"
      }
    },
    {
      "cell_type": "markdown",
      "source": [
        "Dispersion: Describes the spread of data around a central value.\n",
        "\n",
        "Variance: Average of squared differences from the mean.\n",
        "\n",
        "Standard Deviation: Square root of variance; gives spread in original units.\n",
        "\n",
        "Both show how tightly or loosely data points cluster around the mean.\n",
        "\n"
      ],
      "metadata": {
        "id": "tngDOjnq6tv7"
      }
    },
    {
      "cell_type": "markdown",
      "source": [
        "***4. What is a box plot, and what can it tell you about the distribution of data?***"
      ],
      "metadata": {
        "id": "4X0sFuvI6v0b"
      }
    },
    {
      "cell_type": "markdown",
      "source": [
        "A box plot visually displays the distribution of data using:\n",
        "\n",
        "Median\n",
        "\n",
        "Quartiles (Q1 and Q3)\n",
        "\n",
        "Minimum and maximum (excluding outliers)\n",
        "\n",
        "Outliers (plotted as individual points)\n",
        "\n",
        "It shows data spread, symmetry, and potential outliers.\n",
        "\n"
      ],
      "metadata": {
        "id": "RQNyzj4c6zb0"
      }
    },
    {
      "cell_type": "markdown",
      "source": [
        "***5. Discuss the role of random sampling in making inferences about populations.***"
      ],
      "metadata": {
        "id": "XB9mF-F261rs"
      }
    },
    {
      "cell_type": "markdown",
      "source": [
        "Random sampling:\n",
        "\n",
        "Ensures every individual has an equal chance of being selected\n",
        "\n",
        "Reduces bias\n",
        "\n",
        "Helps generalize results from the sample to the population\n",
        "\n",
        "Supports valid statistical inference"
      ],
      "metadata": {
        "id": "JPdWD_Pa65IL"
      }
    },
    {
      "cell_type": "markdown",
      "source": [
        "***6. Explain the concept of skewness and its types. How does skewness affect the interpretation of data?***"
      ],
      "metadata": {
        "id": "S7MrNOrR67vD"
      }
    },
    {
      "cell_type": "markdown",
      "source": [
        "Skewness: Measures asymmetry of a distribution.\n",
        "\n",
        "Positive skew: Tail on right; mean > median\n",
        "\n",
        "Negative skew: Tail on left; mean < median\n",
        "\n",
        "Zero skewness: Symmetric (normal distribution)\n",
        "\n",
        "Affects choice of central tendency and statistical analysis.\n",
        "\n"
      ],
      "metadata": {
        "id": "DhGaKhrZ6-2j"
      }
    },
    {
      "cell_type": "markdown",
      "source": [
        "***7. What is the interquartile range (IQR), and how is it used to detect outliers?***"
      ],
      "metadata": {
        "id": "lNTpKlsO7Asc"
      }
    },
    {
      "cell_type": "markdown",
      "source": [
        "IQR = Q3 − Q1 (middle 50% of data)\n",
        "\n",
        "Outliers: Values below Q1 − 1.5×IQR or above Q3 + 1.5×IQR\n",
        "\n",
        "Used to measure spread and identify unusual values."
      ],
      "metadata": {
        "id": "jdNyL6nK7DxL"
      }
    },
    {
      "cell_type": "markdown",
      "source": [
        "***8. Discuss the conditions under which the binomial distribution is used***"
      ],
      "metadata": {
        "id": "-VE1RaKi7FZM"
      }
    },
    {
      "cell_type": "markdown",
      "source": [
        "Use when:\n",
        "\n",
        "Fixed number of trials (n)\n",
        "\n",
        "Each trial has 2 outcomes (success/failure)\n",
        "\n",
        "Probability (p) is constant across trials\n",
        "\n",
        "Trials are independent\n",
        "\n",
        "Example: Flipping a coin 10 times and counting heads."
      ],
      "metadata": {
        "id": "pd1ggNly7IAj"
      }
    },
    {
      "cell_type": "markdown",
      "source": [
        "***9. Explain the properties of the normal distribution and the empirical rule (68–95–99.7 rule)***"
      ],
      "metadata": {
        "id": "b_9ao1b27J9z"
      }
    },
    {
      "cell_type": "markdown",
      "source": [
        "Normal distribution: Bell-shaped, symmetric about the mean.\n",
        "\n",
        "Empirical rule:\n",
        "\n",
        "68% of data within 1 SD\n",
        "\n",
        "95% within 2 SD\n",
        "\n",
        "99.7% within 3 SD\n",
        "\n",
        "Used to estimate probabilities and identify outliers."
      ],
      "metadata": {
        "id": "unNQpjcE7MjL"
      }
    },
    {
      "cell_type": "markdown",
      "source": [
        "***10. Provide a real-life example of a Poisson process and calculate the probability for a specific event.***"
      ],
      "metadata": {
        "id": "eiQcGnzE7OTE"
      }
    },
    {
      "cell_type": "markdown",
      "source": [
        "Example: Number of customer calls received per hour at a call center.\n",
        "\n",
        "If the average rate (λ) is 5 calls/hour, probability of 3 calls:\n",
        "\n",
        "![image.png](data:image/png;base64,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)"
      ],
      "metadata": {
        "id": "lq2FdaxJ7SX7"
      }
    },
    {
      "cell_type": "markdown",
      "source": [
        "***11. Explain what a random variable is and differentiate between discrete and continuous random variables.***"
      ],
      "metadata": {
        "id": "b_bvLwy57aRD"
      }
    },
    {
      "cell_type": "markdown",
      "source": [
        "Random variable: A variable whose value is determined by chance.\n",
        "\n",
        "Discrete: Finite/countable outcomes (e.g., dice roll)\n",
        "\n",
        "Continuous: Infinite outcomes within a range (e.g., height)"
      ],
      "metadata": {
        "id": "jnwxAuUe7fHL"
      }
    },
    {
      "cell_type": "markdown",
      "source": [
        "***12. Provide an example dataset, calculate both covariance and correlation, and interpret the results.***"
      ],
      "metadata": {
        "id": "HZgm4qy97his"
      }
    },
    {
      "cell_type": "markdown",
      "source": [
        "![image.png](data:image/png;base64,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)\n",
        "\n",
        "\n",
        "\n",
        "Covariance:\n",
        "\n",
        "Cov\n",
        "(\n",
        "𝑋\n",
        ",\n",
        "𝑌\n",
        ")\n",
        "=\n",
        "5\n",
        "Cov(X,Y)=5\n",
        "Correlation:\n",
        "\n",
        "𝑟\n",
        "=\n",
        "1\n",
        "r=1\n",
        "Interpretation:\n",
        "\n",
        "Covariance is positive: X and Y increase together.\n",
        "\n",
        "Correlation = 1: Perfect positive linear relationship."
      ],
      "metadata": {
        "id": "zZFOTSKX7km0"
      }
    },
    {
      "cell_type": "markdown",
      "source": [],
      "metadata": {
        "id": "jyZ6AsQJ7soL"
      }
    }
  ]
}