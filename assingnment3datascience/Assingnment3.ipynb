{
  "nbformat": 4,
  "nbformat_minor": 0,
  "metadata": {
    "colab": {
      "provenance": []
    },
    "kernelspec": {
      "name": "python3",
      "display_name": "Python 3"
    },
    "language_info": {
      "name": "python"
    }
  },
  "cells": [
    {
      "cell_type": "markdown",
      "source": [
        "***Q1. What is the difference between interpreted and compiled languages ?***"
      ],
      "metadata": {
        "id": "MLk2gidz28tG"
      }
    },
    {
      "cell_type": "markdown",
      "source": [
        "**Interpreted vs. Compiled Languages**\n",
        "\n",
        "Interpreted Language: Executes code line-by-line via an interpreter. Example: Python.\n",
        "\n",
        "Compiled Language: Converts code into machine language using a compiler before execution. Example: C++."
      ],
      "metadata": {
        "id": "3EbkeLDg3AyF"
      }
    },
    {
      "cell_type": "markdown",
      "source": [
        "***Q2. What is exception handling in Python ?***"
      ],
      "metadata": {
        "id": "LH92-ZT93YKN"
      }
    },
    {
      "cell_type": "markdown",
      "source": [
        "**Exception Handling in Python**\n",
        "\n",
        "Exception handling allows a program to catch and handle runtime errors to prevent crashes. It uses try, except, else, and finally blocks.\n",
        "\n"
      ],
      "metadata": {
        "id": "-sflrM7r3fht"
      }
    },
    {
      "cell_type": "code",
      "source": [
        "try:\n",
        "    x = int(input(\"Enter a number: \"))\n",
        "    result = 10 / x\n",
        "    print(\"Result:\", result)\n",
        "except ZeroDivisionError:\n",
        "    print(\"Cannot divide by zero!\")\n",
        "except ValueError:\n",
        "    print(\"Invalid input! Enter a number.\")\n"
      ],
      "metadata": {
        "colab": {
          "base_uri": "https://localhost:8080/"
        },
        "id": "K_CL9_Au31lN",
        "outputId": "fa79b4fe-42b1-478c-ec6e-e60a285d93ce"
      },
      "execution_count": 1,
      "outputs": [
        {
          "output_type": "stream",
          "name": "stdout",
          "text": [
            "Enter a number: 3\n",
            "Result: 3.3333333333333335\n"
          ]
        }
      ]
    },
    {
      "cell_type": "markdown",
      "source": [
        "***Q3. What is the purpose of the finally block in exception handling ?***"
      ],
      "metadata": {
        "id": "EG426z-e4Syl"
      }
    },
    {
      "cell_type": "markdown",
      "source": [
        "**Purpose of the finally Block**\n",
        "\n",
        "The finally block ensures that certain code executes regardless of whether an exception occurs. It is often used for cleanup operations like closing files or releasing resources.\n",
        "\n"
      ],
      "metadata": {
        "id": "VmCYVClM419U"
      }
    },
    {
      "cell_type": "markdown",
      "source": [
        "***Q4. What is logging in Python ?***"
      ],
      "metadata": {
        "id": "lryj9iUy6FKd"
      }
    },
    {
      "cell_type": "markdown",
      "source": [
        "**Logging in Python**\n",
        "\n",
        "The logging module provides a flexible framework for recording messages in an application, such as errors, warnings, or general runtime information, without using print statements."
      ],
      "metadata": {
        "id": "zx23P80-6QFM"
      }
    },
    {
      "cell_type": "code",
      "source": [
        "import logging\n",
        "\n",
        "logging.basicConfig(level=logging.INFO)\n",
        "logging.info(\"This is an info message\")\n",
        "logging.warning(\"This is a warning message\")\n",
        "logging.error(\"This is an error message\")\n"
      ],
      "metadata": {
        "colab": {
          "base_uri": "https://localhost:8080/"
        },
        "id": "qBSmbyFK6WJc",
        "outputId": "1bd10c3a-27d7-49c3-f704-cb5229e4762f"
      },
      "execution_count": 3,
      "outputs": [
        {
          "output_type": "stream",
          "name": "stderr",
          "text": [
            "WARNING:root:This is a warning message\n",
            "ERROR:root:This is an error message\n"
          ]
        }
      ]
    },
    {
      "cell_type": "markdown",
      "source": [
        "***Q5. What is the significance of the __del__ method in Python ?***"
      ],
      "metadata": {
        "id": "hcNbls0B6hsU"
      }
    },
    {
      "cell_type": "markdown",
      "source": [
        "**Significance of __del__ in Python**\n",
        "\n",
        "The __del__ method is a destructor called when an object is garbage-collected, allowing you to clean up resources like closing files or database connections."
      ],
      "metadata": {
        "id": "mkVh72lL6rqc"
      }
    },
    {
      "cell_type": "code",
      "source": [
        "class MyClass:\n",
        "    def __del__(self):\n",
        "        print(\"Object destroyed\")\n",
        "\n",
        "obj = MyClass()\n",
        "del obj\n"
      ],
      "metadata": {
        "colab": {
          "base_uri": "https://localhost:8080/"
        },
        "id": "Q9s7IcQ960J0",
        "outputId": "fd2d54b4-55b1-464f-c160-e25cc9e5d761"
      },
      "execution_count": 4,
      "outputs": [
        {
          "output_type": "stream",
          "name": "stdout",
          "text": [
            "Object destroyed\n"
          ]
        }
      ]
    },
    {
      "cell_type": "markdown",
      "source": [
        "***Q6. What is the difference between import and from ... import in Python ?***"
      ],
      "metadata": {
        "id": "FRBqxERq66hU"
      }
    },
    {
      "cell_type": "markdown",
      "source": [
        "**Difference Between import and from ... import**\n",
        "\n",
        "import: Imports the entire module.\n",
        "\n",
        "from ... import: Imports specific attributes or functions from a module."
      ],
      "metadata": {
        "id": "0hkTJx0B7AsM"
      }
    },
    {
      "cell_type": "code",
      "source": [
        "# Using import\n",
        "import math\n",
        "print(math.sqrt(16))\n",
        "\n",
        "# Using from ... import\n",
        "from math import sqrt\n",
        "print(sqrt(16))\n"
      ],
      "metadata": {
        "colab": {
          "base_uri": "https://localhost:8080/"
        },
        "id": "gWXtK1u87Wtk",
        "outputId": "3ce8ee7f-a551-422a-9c01-3eea6dd93783"
      },
      "execution_count": 5,
      "outputs": [
        {
          "output_type": "stream",
          "name": "stdout",
          "text": [
            "4.0\n",
            "4.0\n"
          ]
        }
      ]
    },
    {
      "cell_type": "markdown",
      "source": [
        "***Q7. How can you handle multiple exceptions in Python ?***"
      ],
      "metadata": {
        "id": "8pUuLMIQ7t88"
      }
    },
    {
      "cell_type": "markdown",
      "source": [
        "**Handling Multiple Exceptions**\n",
        "\n",
        "You can handle multiple exceptions using a tuple in the except block:"
      ],
      "metadata": {
        "id": "WDgXxEP87xbM"
      }
    },
    {
      "cell_type": "markdown",
      "source": [
        "try:\n",
        "    # Code\n",
        "except (ValueError, TypeError) as e:\n",
        "    # Handle exceptions\n"
      ],
      "metadata": {
        "id": "xDRpQPp48PPk"
      }
    },
    {
      "cell_type": "markdown",
      "source": [
        "***Q8. What is the purpose of the with statement when handling files in Python ?***"
      ],
      "metadata": {
        "id": "BCapgioV8S0k"
      }
    },
    {
      "cell_type": "markdown",
      "source": [
        "**Purpose of the with Statement**\n",
        "\n",
        "The with statement ensures that resources like files are properly opened and closed, even if exceptions occur. Example:"
      ],
      "metadata": {
        "id": "_RZvxtyI8ais"
      }
    },
    {
      "cell_type": "markdown",
      "source": [
        "with open(\"file.txt\", \"r\") as file:\n",
        "\n",
        "    data = file.read()\n"
      ],
      "metadata": {
        "id": "ulgDF5_j8hSk"
      }
    },
    {
      "cell_type": "markdown",
      "source": [
        "***Q9.  What is the difference between multithreading and multiprocessing ?***"
      ],
      "metadata": {
        "id": "G_diOkS-8lZd"
      }
    },
    {
      "cell_type": "markdown",
      "source": [
        "**Multithreading vs. Multiprocessing**\n",
        "\n",
        "Multithreading: Multiple threads run in the same process, sharing memory.\n",
        "\n",
        "Multiprocessing: Separate processes run independently with their own memory."
      ],
      "metadata": {
        "id": "uokkerQ58s6d"
      }
    },
    {
      "cell_type": "code",
      "source": [
        "# Multithreading Example\n",
        "import threading\n",
        "\n",
        "def print_numbers():\n",
        "    for i in range(5):\n",
        "        print(i)\n",
        "\n",
        "thread = threading.Thread(target=print_numbers)\n",
        "thread.start()\n",
        "thread.join()\n",
        "\n",
        "# Multiprocessing Example\n",
        "import multiprocessing\n",
        "\n",
        "def print_numbers():\n",
        "    for i in range(5):\n",
        "        print(i)\n",
        "\n",
        "process = multiprocessing.Process(target=print_numbers)\n",
        "process.start()\n",
        "process.join()\n"
      ],
      "metadata": {
        "colab": {
          "base_uri": "https://localhost:8080/"
        },
        "id": "nvjpn_ph82DM",
        "outputId": "6f5441c8-35ad-4a72-dd94-46d2ba8272c7"
      },
      "execution_count": 7,
      "outputs": [
        {
          "output_type": "stream",
          "name": "stdout",
          "text": [
            "0\n",
            "1\n",
            "2\n",
            "3\n",
            "4\n",
            "0\n",
            "1\n",
            "2\n",
            "3\n",
            "4\n"
          ]
        }
      ]
    },
    {
      "cell_type": "markdown",
      "source": [
        "***Q10. What are the advantages of using logging in a program ?***"
      ],
      "metadata": {
        "id": "VqZ6CD7N87tl"
      }
    },
    {
      "cell_type": "markdown",
      "source": [
        "**Advantages of Logging**\n",
        "\n",
        "Tracks runtime issues.\n",
        "\n",
        "Provides configurable verbosity levels.\n",
        "\n",
        "Allows persistent logs for debugging.\n",
        "\n",
        "Avoids debugging with print statements."
      ],
      "metadata": {
        "id": "PPFxdbOY9C9k"
      }
    },
    {
      "cell_type": "code",
      "source": [
        "import logging\n",
        "\n",
        "logging.basicConfig(level=logging.INFO, filename=\"app.log\")\n",
        "logging.info(\"Application started\")\n",
        "logging.error(\"An error occurred\")\n"
      ],
      "metadata": {
        "colab": {
          "base_uri": "https://localhost:8080/"
        },
        "id": "Q-j6W10u9TO7",
        "outputId": "5507fd11-1ea6-4fde-fec1-e45ccf2b21ba"
      },
      "execution_count": 8,
      "outputs": [
        {
          "output_type": "stream",
          "name": "stderr",
          "text": [
            "ERROR:root:An error occurred\n"
          ]
        }
      ]
    },
    {
      "cell_type": "markdown",
      "source": [
        "***Q11. What is memory management in Python ?***"
      ],
      "metadata": {
        "id": "tIp6u-U29laU"
      }
    },
    {
      "cell_type": "markdown",
      "source": [
        "**Memory Management in Python**\n",
        "\n",
        "Python uses automatic memory management with techniques like garbage collection to allocate and release memory."
      ],
      "metadata": {
        "id": "gDhL6ietA7DL"
      }
    },
    {
      "cell_type": "code",
      "source": [
        "import gc\n",
        "\n",
        "# Create a cyclic reference\n",
        "a = []\n",
        "b = [a]\n",
        "a.append(b)\n",
        "\n",
        "# Force garbage collection\n",
        "gc.collect()\n"
      ],
      "metadata": {
        "colab": {
          "base_uri": "https://localhost:8080/"
        },
        "id": "aF1_RrKdA99E",
        "outputId": "72eab64e-4319-4abc-d61a-977f6f65f886"
      },
      "execution_count": 9,
      "outputs": [
        {
          "output_type": "execute_result",
          "data": {
            "text/plain": [
              "0"
            ]
          },
          "metadata": {},
          "execution_count": 9
        }
      ]
    },
    {
      "cell_type": "markdown",
      "source": [
        "***Q12. What are the basic steps involved in exception handling in Python ?***"
      ],
      "metadata": {
        "id": "uox_LssjBJzT"
      }
    },
    {
      "cell_type": "markdown",
      "source": [
        "**Basic Steps in Exception Handling**\n",
        "\n",
        "Use try to wrap code that might throw an exception.\n",
        "\n",
        "Use except to handle exceptions.\n",
        "\n",
        "Optionally use else for code that executes if no exception occurs.\n",
        "\n",
        "Use finally for cleanup."
      ],
      "metadata": {
        "id": "dp3goUiyBO-a"
      }
    },
    {
      "cell_type": "code",
      "source": [
        "try:\n",
        "    number = int(input(\"Enter a number: \"))\n",
        "    print(\"Number:\", number)\n",
        "except ValueError:\n",
        "    print(\"Invalid input.\")\n",
        "else:\n",
        "    print(\"Success!\")\n",
        "finally:\n",
        "    print(\"Execution complete.\")\n"
      ],
      "metadata": {
        "colab": {
          "base_uri": "https://localhost:8080/"
        },
        "id": "ugtFtK6LBW7b",
        "outputId": "a1724761-dd63-4c86-ef0a-cf07f5e1c9ca"
      },
      "execution_count": 10,
      "outputs": [
        {
          "output_type": "stream",
          "name": "stdout",
          "text": [
            "Enter a number: 4\n",
            "Number: 4\n",
            "Success!\n",
            "Execution complete.\n"
          ]
        }
      ]
    },
    {
      "cell_type": "markdown",
      "source": [
        "***Q13. Why is memory management important in Python ?***"
      ],
      "metadata": {
        "id": "O6M4aHY4Bboa"
      }
    },
    {
      "cell_type": "markdown",
      "source": [
        "**Importance of Memory Management**\n",
        "\n",
        "Efficient memory management prevents memory leaks and ensures the optimal performance of applications."
      ],
      "metadata": {
        "id": "06PCucMfBjnj"
      }
    },
    {
      "cell_type": "markdown",
      "source": [
        "***Q14. What is the role of try and except in exception handling ?***"
      ],
      "metadata": {
        "id": "ds4WpJMpBtmq"
      }
    },
    {
      "cell_type": "markdown",
      "source": [
        "**Role of try and except**\n",
        "\n",
        "The try block contains code that may throw exceptions. The except block handles those exceptions."
      ],
      "metadata": {
        "id": "rdjY2jIxCdbT"
      }
    },
    {
      "cell_type": "code",
      "source": [
        "try:\n",
        "    num = int(input(\"Enter a number: \"))\n",
        "    print(10 / num)\n",
        "except ZeroDivisionError:\n",
        "    print(\"Cannot divide by zero.\")\n"
      ],
      "metadata": {
        "colab": {
          "base_uri": "https://localhost:8080/"
        },
        "id": "Er08jty9Cm8i",
        "outputId": "fecc94d8-a145-4715-917f-935ee7a14cbd"
      },
      "execution_count": 12,
      "outputs": [
        {
          "output_type": "stream",
          "name": "stdout",
          "text": [
            "Enter a number: 5\n",
            "2.0\n"
          ]
        }
      ]
    },
    {
      "cell_type": "markdown",
      "source": [
        "***Q15.  How does Python's garbage collection system work ?***\n"
      ],
      "metadata": {
        "id": "kAznx15JCmCj"
      }
    },
    {
      "cell_type": "markdown",
      "source": [
        "**Garbage Collection in Python**\n",
        "\n",
        "Python's garbage collector reclaims unused memory by deleting objects with no references. It uses reference counting and a cyclic garbage collector.\n",
        "\n"
      ],
      "metadata": {
        "id": "cgsMmabpC-CT"
      }
    },
    {
      "cell_type": "code",
      "source": [
        "import gc\n",
        "\n",
        "class Test:\n",
        "    def __init__(self, name):\n",
        "        self.name = name\n",
        "\n",
        "obj = Test(\"Sample\")\n",
        "del obj  # Removes reference\n",
        "gc.collect()  # Forces garbage collection\n"
      ],
      "metadata": {
        "colab": {
          "base_uri": "https://localhost:8080/"
        },
        "id": "SqdappZPDNOK",
        "outputId": "51a15ddc-7ea8-413e-ed71-093cee0cd7be"
      },
      "execution_count": 13,
      "outputs": [
        {
          "output_type": "execute_result",
          "data": {
            "text/plain": [
              "34"
            ]
          },
          "metadata": {},
          "execution_count": 13
        }
      ]
    },
    {
      "cell_type": "markdown",
      "source": [
        "***Q16.  What is the purpose of the else block in exception handling ?***\n"
      ],
      "metadata": {
        "id": "t_Z2FXFCDUXj"
      }
    },
    {
      "cell_type": "markdown",
      "source": [
        "**Purpose of the else Block**\n",
        "\n",
        "The else block executes only if no exceptions occur in the try block.\n",
        "\n"
      ],
      "metadata": {
        "id": "P-1qQXG3DZWq"
      }
    },
    {
      "cell_type": "code",
      "source": [
        "try:\n",
        "    num = int(input(\"Enter a number: \"))\n",
        "except ValueError:\n",
        "    print(\"Invalid input.\")\n",
        "else:\n",
        "    print(\"You entered:\", num)\n"
      ],
      "metadata": {
        "colab": {
          "base_uri": "https://localhost:8080/"
        },
        "id": "ZMIT1EJrDekK",
        "outputId": "377ba9fb-a984-4ffa-976b-eba492a7fcc8"
      },
      "execution_count": 14,
      "outputs": [
        {
          "output_type": "stream",
          "name": "stdout",
          "text": [
            "Enter a number: 6\n",
            "You entered: 6\n"
          ]
        }
      ]
    },
    {
      "cell_type": "markdown",
      "source": [
        "***Q17. What are the common logging levels in Python ?***"
      ],
      "metadata": {
        "id": "qL3l6ssBDlhk"
      }
    },
    {
      "cell_type": "markdown",
      "source": [
        "**Common Logging Levels**\n",
        "\n",
        "DEBUG\n",
        "\n",
        "INFO\n",
        "\n",
        "WARNING\n",
        "\n",
        "ERROR\n",
        "\n",
        "CRITICAL"
      ],
      "metadata": {
        "id": "g1zp5UYRDr07"
      }
    },
    {
      "cell_type": "code",
      "source": [
        "import logging\n",
        "\n",
        "logging.debug(\"Debug message\")\n",
        "logging.info(\"Info message\")\n",
        "logging.warning(\"Warning message\")\n",
        "logging.error(\"Error message\")\n",
        "logging.critical(\"Critical message\")\n"
      ],
      "metadata": {
        "colab": {
          "base_uri": "https://localhost:8080/"
        },
        "id": "JKk1q5QiD0ED",
        "outputId": "f8cd02ae-29e3-43e2-b8db-1c0920757adf"
      },
      "execution_count": 15,
      "outputs": [
        {
          "output_type": "stream",
          "name": "stderr",
          "text": [
            "WARNING:root:Warning message\n",
            "ERROR:root:Error message\n",
            "CRITICAL:root:Critical message\n"
          ]
        }
      ]
    },
    {
      "cell_type": "markdown",
      "source": [
        "***Q18. What is the difference between os.fork() and multiprocessing in Python ?***"
      ],
      "metadata": {
        "id": "m5T1-65lD7RD"
      }
    },
    {
      "cell_type": "markdown",
      "source": [
        "**Difference Between os.fork() and Multiprocessing**\n",
        "\n",
        "os.fork(): Creates a child process (Unix-based).\n",
        "\n",
        "Multiprocessing: Cross-platform, with high-level APIs for creating processes."
      ],
      "metadata": {
        "id": "7ICIZ9efD_or"
      }
    },
    {
      "cell_type": "code",
      "source": [
        "# os.fork() (Unix systems only)\n",
        "import os\n",
        "pid = os.fork()\n",
        "if pid == 0:\n",
        "    print(\"Child process\")\n",
        "else:\n",
        "    print(\"Parent process\")\n",
        "\n",
        "# Multiprocessing\n",
        "from multiprocessing import Process\n",
        "\n",
        "def task():\n",
        "    print(\"New process\")\n",
        "\n",
        "p = Process(target=task)\n",
        "p.start()\n",
        "p.join()\n"
      ],
      "metadata": {
        "colab": {
          "base_uri": "https://localhost:8080/"
        },
        "id": "ShTrv0HXEORb",
        "outputId": "f355a3a6-e491-4f7f-8e01-cc064deea893"
      },
      "execution_count": null,
      "outputs": [
        {
          "output_type": "stream",
          "name": "stdout",
          "text": [
            "Child process\n",
            "Parent process\n",
            "New processNew process\n",
            "\n"
          ]
        }
      ]
    },
    {
      "cell_type": "markdown",
      "source": [
        "***Q19. What is the importance of closing a file in Python ?***\n"
      ],
      "metadata": {
        "id": "yw6gG6F0EGEs"
      }
    },
    {
      "cell_type": "markdown",
      "source": [
        "**Importance of Closing a File**\n",
        "\n",
        "Closing a file ensures that all changes are saved, and resources are released, preventing data corruption or memory leaks."
      ],
      "metadata": {
        "id": "8vGJP5HeEdZq"
      }
    },
    {
      "cell_type": "markdown",
      "source": [
        "file = open(\"example.txt\", \"w\")\n",
        "\n",
        "file.write(\"Hello, World!\")\n",
        "\n",
        "file.close()\n"
      ],
      "metadata": {
        "id": "Jpz5RLQ-FBA6"
      }
    },
    {
      "cell_type": "markdown",
      "source": [
        "***Q20. What is the difference between file.read() and file.readline() in Python ?***\n"
      ],
      "metadata": {
        "id": "WBfK-1vgFDSC"
      }
    },
    {
      "cell_type": "markdown",
      "source": [
        "**Difference Between file.read() and file.readline()**\n",
        "\n",
        "file.read(): Reads the entire file or a specified number of characters.\n",
        "\n",
        "file.readline(): Reads one line at a time."
      ],
      "metadata": {
        "id": "JnR95YVSFLCq"
      }
    },
    {
      "cell_type": "markdown",
      "source": [
        "with open(\"example.txt\", \"r\") as file:\n",
        "    content = file.read()\n",
        "    print(content)\n",
        "\n",
        "# file.readline()\n",
        "with open(\"example.txt\", \"r\") as file:\n",
        "    line = file.readline()\n",
        "    print(line)"
      ],
      "metadata": {
        "id": "kBbSeeqdFoh8"
      }
    }
  ]
}